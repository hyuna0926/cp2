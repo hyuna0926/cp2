{
  "nbformat": 4,
  "nbformat_minor": 0,
  "metadata": {
    "colab": {
      "provenance": [],
      "mount_file_id": "1JaeV-uqMxOCEqciUDY51Dg8NMLnBnH5t",
      "authorship_tag": "ABX9TyNkvXeRuZMNkOLTApwwBXBV",
      "include_colab_link": true
    },
    "kernelspec": {
      "name": "python3",
      "display_name": "Python 3"
    },
    "language_info": {
      "name": "python"
    }
  },
  "cells": [
    {
      "cell_type": "markdown",
      "metadata": {
        "id": "view-in-github",
        "colab_type": "text"
      },
      "source": [
        "<a href=\"https://colab.research.google.com/github/hyuna0926/cp2/blob/main/KNN_item_model.ipynb\" target=\"_parent\"><img src=\"https://colab.research.google.com/assets/colab-badge.svg\" alt=\"Open In Colab\"/></a>"
      ]
    },
    {
      "cell_type": "code",
      "execution_count": 1,
      "metadata": {
        "id": "DMO3E9ss2fYn"
      },
      "outputs": [],
      "source": [
        "import pandas as pd\n",
        "import numpy as np\n",
        "import seaborn as sns\n",
        "import matplotlib.pyplot as plt"
      ]
    },
    {
      "cell_type": "markdown",
      "source": [
        "# 데이터 불러오기"
      ],
      "metadata": {
        "id": "xgtNEOfS2wZp"
      }
    },
    {
      "cell_type": "code",
      "source": [
        "df=pd.read_csv('/content/drive/MyDrive/ml-100k/movie_lens.csv',index_col=0)\n",
        "df_c = df.astype(dtype='int32',errors='ignore')\n",
        "df_c.iloc[:,5:7]=df_c.iloc[:,5:7].astype('category')\n",
        "df_c.iloc[:,-1:]=df_c.iloc[:,-1:].astype('category')"
      ],
      "metadata": {
        "id": "nNp9h_dz2v6h"
      },
      "execution_count": 2,
      "outputs": []
    },
    {
      "cell_type": "code",
      "source": [
        "unknown = df_c['movie_title'] !='unknown'\n",
        "df_c = df_c[unknown]"
      ],
      "metadata": {
        "id": "wyTGAlRq3CIU"
      },
      "execution_count": 3,
      "outputs": []
    },
    {
      "cell_type": "code",
      "source": [
        "df_c.info()"
      ],
      "metadata": {
        "id": "Zcch-HTT3Cel"
      },
      "execution_count": null,
      "outputs": []
    },
    {
      "cell_type": "markdown",
      "source": [
        "- 데이터 분리"
      ],
      "metadata": {
        "id": "4OQqIWFL3GKT"
      }
    },
    {
      "cell_type": "code",
      "source": [
        "from sklearn.model_selection import train_test_split\n",
        "\n",
        "train, test=train_test_split(df_c, test_size=0.2, shuffle=True,random_state=3)"
      ],
      "metadata": {
        "id": "W0wIjcq63D-Q"
      },
      "execution_count": 5,
      "outputs": []
    },
    {
      "cell_type": "markdown",
      "source": [
        "# CF - 아이템 기반 협업 필터링(코사인유사도)"
      ],
      "metadata": {
        "id": "Onbx6Uqo3M78"
      }
    },
    {
      "cell_type": "code",
      "source": [
        "import pandas as pd\n",
        "import numpy as np\n",
        "import matplotlib.pyplot as plt\n",
        "import seaborn as sns\n",
        "\n",
        "import operator\n",
        "\n",
        "from ast import literal_eval\n",
        "from sklearn.metrics.pairwise import cosine_similarity\n",
        "\n",
        "from scipy.stats import pearsonr\n",
        "from scipy.sparse import csr_matrix"
      ],
      "metadata": {
        "id": "aV6bBSDM3UN7"
      },
      "execution_count": 6,
      "outputs": []
    },
    {
      "cell_type": "code",
      "source": [
        "train_data=train.pivot_table('rating',index='movie_title',columns='user_id').fillna(0)"
      ],
      "metadata": {
        "id": "PyMOq6XE3SCw"
      },
      "execution_count": 7,
      "outputs": []
    },
    {
      "cell_type": "markdown",
      "source": [
        "\n",
        "sparse(0) data가 많기 때문에 scipy sparse matrix를 사용해 memory 용량 효율적으로 사용<BR>\n",
        "- Compressed sparse row (CSR): 가로의 순서대로 재정렬하는 방법으로 행에 관여하여 정리 압축\n"
      ],
      "metadata": {
        "id": "cpi7ii6o3dKs"
      }
    },
    {
      "cell_type": "code",
      "source": [
        "train_csr=csr_matrix(train_data.values) "
      ],
      "metadata": {
        "id": "3jYzzHcP3XbJ"
      },
      "execution_count": 8,
      "outputs": []
    },
    {
      "cell_type": "markdown",
      "source": [
        "### 코사인 유사도"
      ],
      "metadata": {
        "id": "TUfCAfoM3ske"
      }
    },
    {
      "cell_type": "code",
      "source": [
        "train_cos = cosine_similarity(train_csr,train_csr)\n",
        "item_cf = pd.DataFrame(data=train_cos, index=train_data.index, columns=train_data.index)"
      ],
      "metadata": {
        "id": "C8eT1JNc3uRo"
      },
      "execution_count": 9,
      "outputs": []
    },
    {
      "cell_type": "code",
      "source": [
        "item_cf"
      ],
      "metadata": {
        "colab": {
          "base_uri": "https://localhost:8080/",
          "height": 883
        },
        "id": "LTvntFcG3w_7",
        "outputId": "4b8ed2ce-7ded-4cdd-e9c4-60330989bfb1"
      },
      "execution_count": 10,
      "outputs": [
        {
          "output_type": "execute_result",
          "data": {
            "text/plain": [
              "movie_title                            'Til There Was You (1997)  \\\n",
              "movie_title                                                        \n",
              "'Til There Was You (1997)                               1.000000   \n",
              "1-900 (1994)                                            0.000000   \n",
              "101 Dalmatians (1996)                                   0.026928   \n",
              "12 Angry Men (1957)                                     0.082944   \n",
              "187 (1997)                                              0.224786   \n",
              "...                                                          ...   \n",
              "Young Guns (1988)                                       0.127585   \n",
              "Young Guns II (1990)                                    0.167428   \n",
              "Young Poisoner's Handbook, The (1995)                   0.030980   \n",
              "Zeus and Roxanne (1997)                                 0.000000   \n",
              "Á köldum klaka (Cold Fever) (1994)                      0.000000   \n",
              "\n",
              "movie_title                            1-900 (1994)  101 Dalmatians (1996)  \\\n",
              "movie_title                                                                  \n",
              "'Til There Was You (1997)                  0.000000               0.026928   \n",
              "1-900 (1994)                               1.000000               0.017695   \n",
              "101 Dalmatians (1996)                      0.017695               1.000000   \n",
              "12 Angry Men (1957)                        0.000000               0.147744   \n",
              "187 (1997)                                 0.010187               0.011897   \n",
              "...                                             ...                    ...   \n",
              "Young Guns (1988)                          0.000000               0.149048   \n",
              "Young Guns II (1990)                       0.000000               0.050989   \n",
              "Young Poisoner's Handbook, The (1995)      0.008143               0.066571   \n",
              "Zeus and Roxanne (1997)                    0.092319               0.173706   \n",
              "Á köldum klaka (Cold Fever) (1994)         0.000000               0.000000   \n",
              "\n",
              "movie_title                            12 Angry Men (1957)  187 (1997)  \\\n",
              "movie_title                                                              \n",
              "'Til There Was You (1997)                         0.082944    0.224786   \n",
              "1-900 (1994)                                      0.000000    0.010187   \n",
              "101 Dalmatians (1996)                             0.147744    0.011897   \n",
              "12 Angry Men (1957)                               1.000000    0.078722   \n",
              "187 (1997)                                        0.078722    1.000000   \n",
              "...                                                    ...         ...   \n",
              "Young Guns (1988)                                 0.236066    0.065764   \n",
              "Young Guns II (1990)                              0.145191    0.088063   \n",
              "Young Poisoner's Handbook, The (1995)             0.042312    0.057487   \n",
              "Zeus and Roxanne (1997)                           0.045100    0.031035   \n",
              "Á köldum klaka (Cold Fever) (1994)                0.092773    0.117041   \n",
              "\n",
              "movie_title                            2 Days in the Valley (1996)  \\\n",
              "movie_title                                                          \n",
              "'Til There Was You (1997)                                 0.122305   \n",
              "1-900 (1994)                                              0.000000   \n",
              "101 Dalmatians (1996)                                     0.085751   \n",
              "12 Angry Men (1957)                                       0.134049   \n",
              "187 (1997)                                                0.106072   \n",
              "...                                                            ...   \n",
              "Young Guns (1988)                                         0.211928   \n",
              "Young Guns II (1990)                                      0.187328   \n",
              "Young Poisoner's Handbook, The (1995)                     0.131182   \n",
              "Zeus and Roxanne (1997)                                   0.054411   \n",
              "Á köldum klaka (Cold Fever) (1994)                        0.102598   \n",
              "\n",
              "movie_title                            20,000 Leagues Under the Sea (1954)  \\\n",
              "movie_title                                                                  \n",
              "'Til There Was You (1997)                                         0.000000   \n",
              "1-900 (1994)                                                      0.000000   \n",
              "101 Dalmatians (1996)                                             0.150920   \n",
              "12 Angry Men (1957)                                               0.241612   \n",
              "187 (1997)                                                        0.012925   \n",
              "...                                                                    ...   \n",
              "Young Guns (1988)                                                 0.212745   \n",
              "Young Guns II (1990)                                              0.070903   \n",
              "Young Poisoner's Handbook, The (1995)                             0.110203   \n",
              "Zeus and Roxanne (1997)                                           0.019522   \n",
              "Á köldum klaka (Cold Fever) (1994)                                0.000000   \n",
              "\n",
              "movie_title                            2001: A Space Odyssey (1968)  \\\n",
              "movie_title                                                           \n",
              "'Til There Was You (1997)                                  0.034144   \n",
              "1-900 (1994)                                               0.035899   \n",
              "101 Dalmatians (1996)                                      0.227680   \n",
              "12 Angry Men (1957)                                        0.359520   \n",
              "187 (1997)                                                 0.066376   \n",
              "...                                                             ...   \n",
              "Young Guns (1988)                                          0.247752   \n",
              "Young Guns II (1990)                                       0.133442   \n",
              "Young Poisoner's Handbook, The (1995)                      0.118172   \n",
              "Zeus and Roxanne (1997)                                    0.030380   \n",
              "Á köldum klaka (Cold Fever) (1994)                         0.068741   \n",
              "\n",
              "movie_title                            3 Ninjas: High Noon At Mega Mountain (1998)  \\\n",
              "movie_title                                                                          \n",
              "'Til There Was You (1997)                                                 0.000000   \n",
              "1-900 (1994)                                                              0.000000   \n",
              "101 Dalmatians (1996)                                                     0.033884   \n",
              "12 Angry Men (1957)                                                       0.092773   \n",
              "187 (1997)                                                                0.058521   \n",
              "...                                                                            ...   \n",
              "Young Guns (1988)                                                         0.048162   \n",
              "Young Guns II (1990)                                                      0.000000   \n",
              "Young Poisoner's Handbook, The (1995)                                     0.023389   \n",
              "Zeus and Roxanne (1997)                                                   0.000000   \n",
              "Á köldum klaka (Cold Fever) (1994)                                        0.000000   \n",
              "\n",
              "movie_title                            39 Steps, The (1935)  ...  \\\n",
              "movie_title                                                  ...   \n",
              "'Til There Was You (1997)                          0.037892  ...   \n",
              "1-900 (1994)                                       0.000000  ...   \n",
              "101 Dalmatians (1996)                              0.075124  ...   \n",
              "12 Angry Men (1957)                                0.304385  ...   \n",
              "187 (1997)                                         0.012556  ...   \n",
              "...                                                     ...  ...   \n",
              "Young Guns (1988)                                  0.093003  ...   \n",
              "Young Guns II (1990)                               0.099015  ...   \n",
              "Young Poisoner's Handbook, The (1995)              0.045165  ...   \n",
              "Zeus and Roxanne (1997)                            0.025286  ...   \n",
              "Á köldum klaka (Cold Fever) (1994)                 0.000000  ...   \n",
              "\n",
              "movie_title                            Wyatt Earp (1994)  Yankee Zulu (1994)  \\\n",
              "movie_title                                                                    \n",
              "'Til There Was You (1997)                       0.076208            0.000000   \n",
              "1-900 (1994)                                    0.000000            0.000000   \n",
              "101 Dalmatians (1996)                           0.185204            0.000000   \n",
              "12 Angry Men (1957)                             0.171252            0.069580   \n",
              "187 (1997)                                      0.056117            0.000000   \n",
              "...                                                  ...                 ...   \n",
              "Young Guns (1988)                               0.304814            0.000000   \n",
              "Young Guns II (1990)                            0.152960            0.180579   \n",
              "Young Poisoner's Handbook, The (1995)           0.031400            0.000000   \n",
              "Zeus and Roxanne (1997)                         0.000000            0.000000   \n",
              "Á köldum klaka (Cold Fever) (1994)              0.000000            0.000000   \n",
              "\n",
              "movie_title                            Year of the Horse (1997)  \\\n",
              "movie_title                                                       \n",
              "'Til There Was You (1997)                              0.000000   \n",
              "1-900 (1994)                                           0.019462   \n",
              "101 Dalmatians (1996)                                  0.026518   \n",
              "12 Angry Men (1957)                                    0.020745   \n",
              "187 (1997)                                             0.170113   \n",
              "...                                                         ...   \n",
              "Young Guns (1988)                                      0.093335   \n",
              "Young Guns II (1990)                                   0.000000   \n",
              "Young Poisoner's Handbook, The (1995)                  0.015690   \n",
              "Zeus and Roxanne (1997)                                0.059293   \n",
              "Á köldum klaka (Cold Fever) (1994)                     0.000000   \n",
              "\n",
              "movie_title                            You So Crazy (1994)  \\\n",
              "movie_title                                                  \n",
              "'Til There Was You (1997)                         0.000000   \n",
              "1-900 (1994)                                      0.000000   \n",
              "101 Dalmatians (1996)                             0.033884   \n",
              "12 Angry Men (1957)                               0.000000   \n",
              "187 (1997)                                        0.000000   \n",
              "...                                                    ...   \n",
              "Young Guns (1988)                                 0.000000   \n",
              "Young Guns II (1990)                              0.000000   \n",
              "Young Poisoner's Handbook, The (1995)             0.000000   \n",
              "Zeus and Roxanne (1997)                           0.000000   \n",
              "Á köldum klaka (Cold Fever) (1994)                0.000000   \n",
              "\n",
              "movie_title                            Young Frankenstein (1974)  \\\n",
              "movie_title                                                        \n",
              "'Til There Was You (1997)                               0.031298   \n",
              "1-900 (1994)                                            0.041134   \n",
              "101 Dalmatians (1996)                                   0.252874   \n",
              "12 Angry Men (1957)                                     0.304621   \n",
              "187 (1997)                                              0.057617   \n",
              "...                                                          ...   \n",
              "Young Guns (1988)                                       0.328770   \n",
              "Young Guns II (1990)                                    0.250093   \n",
              "Young Poisoner's Handbook, The (1995)                   0.112377   \n",
              "Zeus and Roxanne (1997)                                 0.062657   \n",
              "Á köldum klaka (Cold Fever) (1994)                      0.059074   \n",
              "\n",
              "movie_title                            Young Guns (1988)  \\\n",
              "movie_title                                                \n",
              "'Til There Was You (1997)                       0.127585   \n",
              "1-900 (1994)                                    0.000000   \n",
              "101 Dalmatians (1996)                           0.149048   \n",
              "12 Angry Men (1957)                             0.236066   \n",
              "187 (1997)                                      0.065764   \n",
              "...                                                  ...   \n",
              "Young Guns (1988)                               1.000000   \n",
              "Young Guns II (1990)                            0.527621   \n",
              "Young Poisoner's Handbook, The (1995)           0.079603   \n",
              "Zeus and Roxanne (1997)                         0.000000   \n",
              "Á köldum klaka (Cold Fever) (1994)              0.000000   \n",
              "\n",
              "movie_title                            Young Guns II (1990)  \\\n",
              "movie_title                                                   \n",
              "'Til There Was You (1997)                          0.167428   \n",
              "1-900 (1994)                                       0.000000   \n",
              "101 Dalmatians (1996)                              0.050989   \n",
              "12 Angry Men (1957)                                0.145191   \n",
              "187 (1997)                                         0.088063   \n",
              "...                                                     ...   \n",
              "Young Guns (1988)                                  0.527621   \n",
              "Young Guns II (1990)                               1.000000   \n",
              "Young Poisoner's Handbook, The (1995)              0.008447   \n",
              "Zeus and Roxanne (1997)                            0.000000   \n",
              "Á köldum klaka (Cold Fever) (1994)                 0.000000   \n",
              "\n",
              "movie_title                            Young Poisoner's Handbook, The (1995)  \\\n",
              "movie_title                                                                    \n",
              "'Til There Was You (1997)                                           0.030980   \n",
              "1-900 (1994)                                                        0.008143   \n",
              "101 Dalmatians (1996)                                               0.066571   \n",
              "12 Angry Men (1957)                                                 0.042312   \n",
              "187 (1997)                                                          0.057487   \n",
              "...                                                                      ...   \n",
              "Young Guns (1988)                                                   0.079603   \n",
              "Young Guns II (1990)                                                0.008447   \n",
              "Young Poisoner's Handbook, The (1995)                               1.000000   \n",
              "Zeus and Roxanne (1997)                                             0.024808   \n",
              "Á köldum klaka (Cold Fever) (1994)                                  0.000000   \n",
              "\n",
              "movie_title                            Zeus and Roxanne (1997)  \\\n",
              "movie_title                                                      \n",
              "'Til There Was You (1997)                             0.000000   \n",
              "1-900 (1994)                                          0.092319   \n",
              "101 Dalmatians (1996)                                 0.173706   \n",
              "12 Angry Men (1957)                                   0.045100   \n",
              "187 (1997)                                            0.031035   \n",
              "...                                                        ...   \n",
              "Young Guns (1988)                                     0.000000   \n",
              "Young Guns II (1990)                                  0.000000   \n",
              "Young Poisoner's Handbook, The (1995)                 0.024808   \n",
              "Zeus and Roxanne (1997)                               1.000000   \n",
              "Á köldum klaka (Cold Fever) (1994)                    0.000000   \n",
              "\n",
              "movie_title                            Á köldum klaka (Cold Fever) (1994)  \n",
              "movie_title                                                                \n",
              "'Til There Was You (1997)                                        0.000000  \n",
              "1-900 (1994)                                                     0.000000  \n",
              "101 Dalmatians (1996)                                            0.000000  \n",
              "12 Angry Men (1957)                                              0.092773  \n",
              "187 (1997)                                                       0.117041  \n",
              "...                                                                   ...  \n",
              "Young Guns (1988)                                                0.000000  \n",
              "Young Guns II (1990)                                             0.000000  \n",
              "Young Poisoner's Handbook, The (1995)                            0.000000  \n",
              "Zeus and Roxanne (1997)                                          0.000000  \n",
              "Á köldum klaka (Cold Fever) (1994)                               1.000000  \n",
              "\n",
              "[1634 rows x 1634 columns]"
            ],
            "text/html": [
              "\n",
              "  <div id=\"df-29b820af-3b71-4f0f-82d7-5ac3ce49dfeb\">\n",
              "    <div class=\"colab-df-container\">\n",
              "      <div>\n",
              "<style scoped>\n",
              "    .dataframe tbody tr th:only-of-type {\n",
              "        vertical-align: middle;\n",
              "    }\n",
              "\n",
              "    .dataframe tbody tr th {\n",
              "        vertical-align: top;\n",
              "    }\n",
              "\n",
              "    .dataframe thead th {\n",
              "        text-align: right;\n",
              "    }\n",
              "</style>\n",
              "<table border=\"1\" class=\"dataframe\">\n",
              "  <thead>\n",
              "    <tr style=\"text-align: right;\">\n",
              "      <th>movie_title</th>\n",
              "      <th>'Til There Was You (1997)</th>\n",
              "      <th>1-900 (1994)</th>\n",
              "      <th>101 Dalmatians (1996)</th>\n",
              "      <th>12 Angry Men (1957)</th>\n",
              "      <th>187 (1997)</th>\n",
              "      <th>2 Days in the Valley (1996)</th>\n",
              "      <th>20,000 Leagues Under the Sea (1954)</th>\n",
              "      <th>2001: A Space Odyssey (1968)</th>\n",
              "      <th>3 Ninjas: High Noon At Mega Mountain (1998)</th>\n",
              "      <th>39 Steps, The (1935)</th>\n",
              "      <th>...</th>\n",
              "      <th>Wyatt Earp (1994)</th>\n",
              "      <th>Yankee Zulu (1994)</th>\n",
              "      <th>Year of the Horse (1997)</th>\n",
              "      <th>You So Crazy (1994)</th>\n",
              "      <th>Young Frankenstein (1974)</th>\n",
              "      <th>Young Guns (1988)</th>\n",
              "      <th>Young Guns II (1990)</th>\n",
              "      <th>Young Poisoner's Handbook, The (1995)</th>\n",
              "      <th>Zeus and Roxanne (1997)</th>\n",
              "      <th>Á köldum klaka (Cold Fever) (1994)</th>\n",
              "    </tr>\n",
              "    <tr>\n",
              "      <th>movie_title</th>\n",
              "      <th></th>\n",
              "      <th></th>\n",
              "      <th></th>\n",
              "      <th></th>\n",
              "      <th></th>\n",
              "      <th></th>\n",
              "      <th></th>\n",
              "      <th></th>\n",
              "      <th></th>\n",
              "      <th></th>\n",
              "      <th></th>\n",
              "      <th></th>\n",
              "      <th></th>\n",
              "      <th></th>\n",
              "      <th></th>\n",
              "      <th></th>\n",
              "      <th></th>\n",
              "      <th></th>\n",
              "      <th></th>\n",
              "      <th></th>\n",
              "      <th></th>\n",
              "    </tr>\n",
              "  </thead>\n",
              "  <tbody>\n",
              "    <tr>\n",
              "      <th>'Til There Was You (1997)</th>\n",
              "      <td>1.000000</td>\n",
              "      <td>0.000000</td>\n",
              "      <td>0.026928</td>\n",
              "      <td>0.082944</td>\n",
              "      <td>0.224786</td>\n",
              "      <td>0.122305</td>\n",
              "      <td>0.000000</td>\n",
              "      <td>0.034144</td>\n",
              "      <td>0.000000</td>\n",
              "      <td>0.037892</td>\n",
              "      <td>...</td>\n",
              "      <td>0.076208</td>\n",
              "      <td>0.000000</td>\n",
              "      <td>0.000000</td>\n",
              "      <td>0.000000</td>\n",
              "      <td>0.031298</td>\n",
              "      <td>0.127585</td>\n",
              "      <td>0.167428</td>\n",
              "      <td>0.030980</td>\n",
              "      <td>0.000000</td>\n",
              "      <td>0.000000</td>\n",
              "    </tr>\n",
              "    <tr>\n",
              "      <th>1-900 (1994)</th>\n",
              "      <td>0.000000</td>\n",
              "      <td>1.000000</td>\n",
              "      <td>0.017695</td>\n",
              "      <td>0.000000</td>\n",
              "      <td>0.010187</td>\n",
              "      <td>0.000000</td>\n",
              "      <td>0.000000</td>\n",
              "      <td>0.035899</td>\n",
              "      <td>0.000000</td>\n",
              "      <td>0.000000</td>\n",
              "      <td>...</td>\n",
              "      <td>0.000000</td>\n",
              "      <td>0.000000</td>\n",
              "      <td>0.019462</td>\n",
              "      <td>0.000000</td>\n",
              "      <td>0.041134</td>\n",
              "      <td>0.000000</td>\n",
              "      <td>0.000000</td>\n",
              "      <td>0.008143</td>\n",
              "      <td>0.092319</td>\n",
              "      <td>0.000000</td>\n",
              "    </tr>\n",
              "    <tr>\n",
              "      <th>101 Dalmatians (1996)</th>\n",
              "      <td>0.026928</td>\n",
              "      <td>0.017695</td>\n",
              "      <td>1.000000</td>\n",
              "      <td>0.147744</td>\n",
              "      <td>0.011897</td>\n",
              "      <td>0.085751</td>\n",
              "      <td>0.150920</td>\n",
              "      <td>0.227680</td>\n",
              "      <td>0.033884</td>\n",
              "      <td>0.075124</td>\n",
              "      <td>...</td>\n",
              "      <td>0.185204</td>\n",
              "      <td>0.000000</td>\n",
              "      <td>0.026518</td>\n",
              "      <td>0.033884</td>\n",
              "      <td>0.252874</td>\n",
              "      <td>0.149048</td>\n",
              "      <td>0.050989</td>\n",
              "      <td>0.066571</td>\n",
              "      <td>0.173706</td>\n",
              "      <td>0.000000</td>\n",
              "    </tr>\n",
              "    <tr>\n",
              "      <th>12 Angry Men (1957)</th>\n",
              "      <td>0.082944</td>\n",
              "      <td>0.000000</td>\n",
              "      <td>0.147744</td>\n",
              "      <td>1.000000</td>\n",
              "      <td>0.078722</td>\n",
              "      <td>0.134049</td>\n",
              "      <td>0.241612</td>\n",
              "      <td>0.359520</td>\n",
              "      <td>0.092773</td>\n",
              "      <td>0.304385</td>\n",
              "      <td>...</td>\n",
              "      <td>0.171252</td>\n",
              "      <td>0.069580</td>\n",
              "      <td>0.020745</td>\n",
              "      <td>0.000000</td>\n",
              "      <td>0.304621</td>\n",
              "      <td>0.236066</td>\n",
              "      <td>0.145191</td>\n",
              "      <td>0.042312</td>\n",
              "      <td>0.045100</td>\n",
              "      <td>0.092773</td>\n",
              "    </tr>\n",
              "    <tr>\n",
              "      <th>187 (1997)</th>\n",
              "      <td>0.224786</td>\n",
              "      <td>0.010187</td>\n",
              "      <td>0.011897</td>\n",
              "      <td>0.078722</td>\n",
              "      <td>1.000000</td>\n",
              "      <td>0.106072</td>\n",
              "      <td>0.012925</td>\n",
              "      <td>0.066376</td>\n",
              "      <td>0.058521</td>\n",
              "      <td>0.012556</td>\n",
              "      <td>...</td>\n",
              "      <td>0.056117</td>\n",
              "      <td>0.000000</td>\n",
              "      <td>0.170113</td>\n",
              "      <td>0.000000</td>\n",
              "      <td>0.057617</td>\n",
              "      <td>0.065764</td>\n",
              "      <td>0.088063</td>\n",
              "      <td>0.057487</td>\n",
              "      <td>0.031035</td>\n",
              "      <td>0.117041</td>\n",
              "    </tr>\n",
              "    <tr>\n",
              "      <th>...</th>\n",
              "      <td>...</td>\n",
              "      <td>...</td>\n",
              "      <td>...</td>\n",
              "      <td>...</td>\n",
              "      <td>...</td>\n",
              "      <td>...</td>\n",
              "      <td>...</td>\n",
              "      <td>...</td>\n",
              "      <td>...</td>\n",
              "      <td>...</td>\n",
              "      <td>...</td>\n",
              "      <td>...</td>\n",
              "      <td>...</td>\n",
              "      <td>...</td>\n",
              "      <td>...</td>\n",
              "      <td>...</td>\n",
              "      <td>...</td>\n",
              "      <td>...</td>\n",
              "      <td>...</td>\n",
              "      <td>...</td>\n",
              "      <td>...</td>\n",
              "    </tr>\n",
              "    <tr>\n",
              "      <th>Young Guns (1988)</th>\n",
              "      <td>0.127585</td>\n",
              "      <td>0.000000</td>\n",
              "      <td>0.149048</td>\n",
              "      <td>0.236066</td>\n",
              "      <td>0.065764</td>\n",
              "      <td>0.211928</td>\n",
              "      <td>0.212745</td>\n",
              "      <td>0.247752</td>\n",
              "      <td>0.048162</td>\n",
              "      <td>0.093003</td>\n",
              "      <td>...</td>\n",
              "      <td>0.304814</td>\n",
              "      <td>0.000000</td>\n",
              "      <td>0.093335</td>\n",
              "      <td>0.000000</td>\n",
              "      <td>0.328770</td>\n",
              "      <td>1.000000</td>\n",
              "      <td>0.527621</td>\n",
              "      <td>0.079603</td>\n",
              "      <td>0.000000</td>\n",
              "      <td>0.000000</td>\n",
              "    </tr>\n",
              "    <tr>\n",
              "      <th>Young Guns II (1990)</th>\n",
              "      <td>0.167428</td>\n",
              "      <td>0.000000</td>\n",
              "      <td>0.050989</td>\n",
              "      <td>0.145191</td>\n",
              "      <td>0.088063</td>\n",
              "      <td>0.187328</td>\n",
              "      <td>0.070903</td>\n",
              "      <td>0.133442</td>\n",
              "      <td>0.000000</td>\n",
              "      <td>0.099015</td>\n",
              "      <td>...</td>\n",
              "      <td>0.152960</td>\n",
              "      <td>0.180579</td>\n",
              "      <td>0.000000</td>\n",
              "      <td>0.000000</td>\n",
              "      <td>0.250093</td>\n",
              "      <td>0.527621</td>\n",
              "      <td>1.000000</td>\n",
              "      <td>0.008447</td>\n",
              "      <td>0.000000</td>\n",
              "      <td>0.000000</td>\n",
              "    </tr>\n",
              "    <tr>\n",
              "      <th>Young Poisoner's Handbook, The (1995)</th>\n",
              "      <td>0.030980</td>\n",
              "      <td>0.008143</td>\n",
              "      <td>0.066571</td>\n",
              "      <td>0.042312</td>\n",
              "      <td>0.057487</td>\n",
              "      <td>0.131182</td>\n",
              "      <td>0.110203</td>\n",
              "      <td>0.118172</td>\n",
              "      <td>0.023389</td>\n",
              "      <td>0.045165</td>\n",
              "      <td>...</td>\n",
              "      <td>0.031400</td>\n",
              "      <td>0.000000</td>\n",
              "      <td>0.015690</td>\n",
              "      <td>0.000000</td>\n",
              "      <td>0.112377</td>\n",
              "      <td>0.079603</td>\n",
              "      <td>0.008447</td>\n",
              "      <td>1.000000</td>\n",
              "      <td>0.024808</td>\n",
              "      <td>0.000000</td>\n",
              "    </tr>\n",
              "    <tr>\n",
              "      <th>Zeus and Roxanne (1997)</th>\n",
              "      <td>0.000000</td>\n",
              "      <td>0.092319</td>\n",
              "      <td>0.173706</td>\n",
              "      <td>0.045100</td>\n",
              "      <td>0.031035</td>\n",
              "      <td>0.054411</td>\n",
              "      <td>0.019522</td>\n",
              "      <td>0.030380</td>\n",
              "      <td>0.000000</td>\n",
              "      <td>0.025286</td>\n",
              "      <td>...</td>\n",
              "      <td>0.000000</td>\n",
              "      <td>0.000000</td>\n",
              "      <td>0.059293</td>\n",
              "      <td>0.000000</td>\n",
              "      <td>0.062657</td>\n",
              "      <td>0.000000</td>\n",
              "      <td>0.000000</td>\n",
              "      <td>0.024808</td>\n",
              "      <td>1.000000</td>\n",
              "      <td>0.000000</td>\n",
              "    </tr>\n",
              "    <tr>\n",
              "      <th>Á köldum klaka (Cold Fever) (1994)</th>\n",
              "      <td>0.000000</td>\n",
              "      <td>0.000000</td>\n",
              "      <td>0.000000</td>\n",
              "      <td>0.092773</td>\n",
              "      <td>0.117041</td>\n",
              "      <td>0.102598</td>\n",
              "      <td>0.000000</td>\n",
              "      <td>0.068741</td>\n",
              "      <td>0.000000</td>\n",
              "      <td>0.000000</td>\n",
              "      <td>...</td>\n",
              "      <td>0.000000</td>\n",
              "      <td>0.000000</td>\n",
              "      <td>0.000000</td>\n",
              "      <td>0.000000</td>\n",
              "      <td>0.059074</td>\n",
              "      <td>0.000000</td>\n",
              "      <td>0.000000</td>\n",
              "      <td>0.000000</td>\n",
              "      <td>0.000000</td>\n",
              "      <td>1.000000</td>\n",
              "    </tr>\n",
              "  </tbody>\n",
              "</table>\n",
              "<p>1634 rows × 1634 columns</p>\n",
              "</div>\n",
              "      <button class=\"colab-df-convert\" onclick=\"convertToInteractive('df-29b820af-3b71-4f0f-82d7-5ac3ce49dfeb')\"\n",
              "              title=\"Convert this dataframe to an interactive table.\"\n",
              "              style=\"display:none;\">\n",
              "        \n",
              "  <svg xmlns=\"http://www.w3.org/2000/svg\" height=\"24px\"viewBox=\"0 0 24 24\"\n",
              "       width=\"24px\">\n",
              "    <path d=\"M0 0h24v24H0V0z\" fill=\"none\"/>\n",
              "    <path d=\"M18.56 5.44l.94 2.06.94-2.06 2.06-.94-2.06-.94-.94-2.06-.94 2.06-2.06.94zm-11 1L8.5 8.5l.94-2.06 2.06-.94-2.06-.94L8.5 2.5l-.94 2.06-2.06.94zm10 10l.94 2.06.94-2.06 2.06-.94-2.06-.94-.94-2.06-.94 2.06-2.06.94z\"/><path d=\"M17.41 7.96l-1.37-1.37c-.4-.4-.92-.59-1.43-.59-.52 0-1.04.2-1.43.59L10.3 9.45l-7.72 7.72c-.78.78-.78 2.05 0 2.83L4 21.41c.39.39.9.59 1.41.59.51 0 1.02-.2 1.41-.59l7.78-7.78 2.81-2.81c.8-.78.8-2.07 0-2.86zM5.41 20L4 18.59l7.72-7.72 1.47 1.35L5.41 20z\"/>\n",
              "  </svg>\n",
              "      </button>\n",
              "      \n",
              "  <style>\n",
              "    .colab-df-container {\n",
              "      display:flex;\n",
              "      flex-wrap:wrap;\n",
              "      gap: 12px;\n",
              "    }\n",
              "\n",
              "    .colab-df-convert {\n",
              "      background-color: #E8F0FE;\n",
              "      border: none;\n",
              "      border-radius: 50%;\n",
              "      cursor: pointer;\n",
              "      display: none;\n",
              "      fill: #1967D2;\n",
              "      height: 32px;\n",
              "      padding: 0 0 0 0;\n",
              "      width: 32px;\n",
              "    }\n",
              "\n",
              "    .colab-df-convert:hover {\n",
              "      background-color: #E2EBFA;\n",
              "      box-shadow: 0px 1px 2px rgba(60, 64, 67, 0.3), 0px 1px 3px 1px rgba(60, 64, 67, 0.15);\n",
              "      fill: #174EA6;\n",
              "    }\n",
              "\n",
              "    [theme=dark] .colab-df-convert {\n",
              "      background-color: #3B4455;\n",
              "      fill: #D2E3FC;\n",
              "    }\n",
              "\n",
              "    [theme=dark] .colab-df-convert:hover {\n",
              "      background-color: #434B5C;\n",
              "      box-shadow: 0px 1px 3px 1px rgba(0, 0, 0, 0.15);\n",
              "      filter: drop-shadow(0px 1px 2px rgba(0, 0, 0, 0.3));\n",
              "      fill: #FFFFFF;\n",
              "    }\n",
              "  </style>\n",
              "\n",
              "      <script>\n",
              "        const buttonEl =\n",
              "          document.querySelector('#df-29b820af-3b71-4f0f-82d7-5ac3ce49dfeb button.colab-df-convert');\n",
              "        buttonEl.style.display =\n",
              "          google.colab.kernel.accessAllowed ? 'block' : 'none';\n",
              "\n",
              "        async function convertToInteractive(key) {\n",
              "          const element = document.querySelector('#df-29b820af-3b71-4f0f-82d7-5ac3ce49dfeb');\n",
              "          const dataTable =\n",
              "            await google.colab.kernel.invokeFunction('convertToInteractive',\n",
              "                                                     [key], {});\n",
              "          if (!dataTable) return;\n",
              "\n",
              "          const docLinkHtml = 'Like what you see? Visit the ' +\n",
              "            '<a target=\"_blank\" href=https://colab.research.google.com/notebooks/data_table.ipynb>data table notebook</a>'\n",
              "            + ' to learn more about interactive tables.';\n",
              "          element.innerHTML = '';\n",
              "          dataTable['output_type'] = 'display_data';\n",
              "          await google.colab.output.renderOutput(dataTable, element);\n",
              "          const docLink = document.createElement('div');\n",
              "          docLink.innerHTML = docLinkHtml;\n",
              "          element.appendChild(docLink);\n",
              "        }\n",
              "      </script>\n",
              "    </div>\n",
              "  </div>\n",
              "  "
            ]
          },
          "metadata": {},
          "execution_count": 10
        }
      ]
    },
    {
      "cell_type": "markdown",
      "source": [
        "### 아이템 추천\n",
        "- 아이템(영화 제목)과 유사도가 높은 25개 출력\n",
        "- 아이템이 없다면 경고 메세지 나오게 함"
      ],
      "metadata": {
        "id": "lY4oVXpl34TE"
      }
    },
    {
      "cell_type": "code",
      "source": [
        "def train_get_item_cf(title):\n",
        "  try:\n",
        "    return item_cf[title].sort_values(ascending=False)[1:26].reset_index()\n",
        "\n",
        "  except:\n",
        "    print('Sorry, the movie is not in the database!')"
      ],
      "metadata": {
        "id": "0a4m81FP3zOQ"
      },
      "execution_count": 11,
      "outputs": []
    },
    {
      "cell_type": "code",
      "source": [
        "train_get_item_cf('Godfather, The (1972)')"
      ],
      "metadata": {
        "colab": {
          "base_uri": "https://localhost:8080/",
          "height": 833
        },
        "id": "HmxZGvIP4AAW",
        "outputId": "4d2f2a1b-54f1-4eb3-94e2-7c03d00e2de7"
      },
      "execution_count": 12,
      "outputs": [
        {
          "output_type": "execute_result",
          "data": {
            "text/plain": [
              "                                  movie_title  Godfather, The (1972)\n",
              "0                            Star Wars (1977)               0.576435\n",
              "1              Godfather: Part II, The (1974)               0.551052\n",
              "2                   Return of the Jedi (1983)               0.499487\n",
              "3                                Fargo (1996)               0.497635\n",
              "4      One Flew Over the Cuckoo's Nest (1975)               0.475017\n",
              "5            Silence of the Lambs, The (1991)               0.455092\n",
              "6              Raiders of the Lost Ark (1981)               0.454788\n",
              "7                         Pulp Fiction (1994)               0.449306\n",
              "8                  Usual Suspects, The (1995)               0.439788\n",
              "9                         Forrest Gump (1994)               0.435817\n",
              "10                       Fugitive, The (1993)               0.430907\n",
              "11                         Taxi Driver (1976)               0.430097\n",
              "12                     Terminator, The (1984)               0.428217\n",
              "13                   Wizard of Oz, The (1939)               0.427981\n",
              "14           Shawshank Redemption, The (1994)               0.427963\n",
              "15                      Twelve Monkeys (1995)               0.427430\n",
              "16                          Casablanca (1942)               0.426494\n",
              "17                           Boot, Das (1981)               0.421805\n",
              "18  Indiana Jones and the Last Crusade (1989)               0.420249\n",
              "19                             Amadeus (1984)               0.419829\n",
              "20                           Rock, The (1996)               0.418539\n",
              "21            Empire Strikes Back, The (1980)               0.418488\n",
              "22                   Leaving Las Vegas (1995)               0.417932\n",
              "23                    Schindler's List (1993)               0.417702\n",
              "24                               Alien (1979)               0.417415"
            ],
            "text/html": [
              "\n",
              "  <div id=\"df-98dbdc01-81af-4b1e-8290-9e0d5c15433a\">\n",
              "    <div class=\"colab-df-container\">\n",
              "      <div>\n",
              "<style scoped>\n",
              "    .dataframe tbody tr th:only-of-type {\n",
              "        vertical-align: middle;\n",
              "    }\n",
              "\n",
              "    .dataframe tbody tr th {\n",
              "        vertical-align: top;\n",
              "    }\n",
              "\n",
              "    .dataframe thead th {\n",
              "        text-align: right;\n",
              "    }\n",
              "</style>\n",
              "<table border=\"1\" class=\"dataframe\">\n",
              "  <thead>\n",
              "    <tr style=\"text-align: right;\">\n",
              "      <th></th>\n",
              "      <th>movie_title</th>\n",
              "      <th>Godfather, The (1972)</th>\n",
              "    </tr>\n",
              "  </thead>\n",
              "  <tbody>\n",
              "    <tr>\n",
              "      <th>0</th>\n",
              "      <td>Star Wars (1977)</td>\n",
              "      <td>0.576435</td>\n",
              "    </tr>\n",
              "    <tr>\n",
              "      <th>1</th>\n",
              "      <td>Godfather: Part II, The (1974)</td>\n",
              "      <td>0.551052</td>\n",
              "    </tr>\n",
              "    <tr>\n",
              "      <th>2</th>\n",
              "      <td>Return of the Jedi (1983)</td>\n",
              "      <td>0.499487</td>\n",
              "    </tr>\n",
              "    <tr>\n",
              "      <th>3</th>\n",
              "      <td>Fargo (1996)</td>\n",
              "      <td>0.497635</td>\n",
              "    </tr>\n",
              "    <tr>\n",
              "      <th>4</th>\n",
              "      <td>One Flew Over the Cuckoo's Nest (1975)</td>\n",
              "      <td>0.475017</td>\n",
              "    </tr>\n",
              "    <tr>\n",
              "      <th>5</th>\n",
              "      <td>Silence of the Lambs, The (1991)</td>\n",
              "      <td>0.455092</td>\n",
              "    </tr>\n",
              "    <tr>\n",
              "      <th>6</th>\n",
              "      <td>Raiders of the Lost Ark (1981)</td>\n",
              "      <td>0.454788</td>\n",
              "    </tr>\n",
              "    <tr>\n",
              "      <th>7</th>\n",
              "      <td>Pulp Fiction (1994)</td>\n",
              "      <td>0.449306</td>\n",
              "    </tr>\n",
              "    <tr>\n",
              "      <th>8</th>\n",
              "      <td>Usual Suspects, The (1995)</td>\n",
              "      <td>0.439788</td>\n",
              "    </tr>\n",
              "    <tr>\n",
              "      <th>9</th>\n",
              "      <td>Forrest Gump (1994)</td>\n",
              "      <td>0.435817</td>\n",
              "    </tr>\n",
              "    <tr>\n",
              "      <th>10</th>\n",
              "      <td>Fugitive, The (1993)</td>\n",
              "      <td>0.430907</td>\n",
              "    </tr>\n",
              "    <tr>\n",
              "      <th>11</th>\n",
              "      <td>Taxi Driver (1976)</td>\n",
              "      <td>0.430097</td>\n",
              "    </tr>\n",
              "    <tr>\n",
              "      <th>12</th>\n",
              "      <td>Terminator, The (1984)</td>\n",
              "      <td>0.428217</td>\n",
              "    </tr>\n",
              "    <tr>\n",
              "      <th>13</th>\n",
              "      <td>Wizard of Oz, The (1939)</td>\n",
              "      <td>0.427981</td>\n",
              "    </tr>\n",
              "    <tr>\n",
              "      <th>14</th>\n",
              "      <td>Shawshank Redemption, The (1994)</td>\n",
              "      <td>0.427963</td>\n",
              "    </tr>\n",
              "    <tr>\n",
              "      <th>15</th>\n",
              "      <td>Twelve Monkeys (1995)</td>\n",
              "      <td>0.427430</td>\n",
              "    </tr>\n",
              "    <tr>\n",
              "      <th>16</th>\n",
              "      <td>Casablanca (1942)</td>\n",
              "      <td>0.426494</td>\n",
              "    </tr>\n",
              "    <tr>\n",
              "      <th>17</th>\n",
              "      <td>Boot, Das (1981)</td>\n",
              "      <td>0.421805</td>\n",
              "    </tr>\n",
              "    <tr>\n",
              "      <th>18</th>\n",
              "      <td>Indiana Jones and the Last Crusade (1989)</td>\n",
              "      <td>0.420249</td>\n",
              "    </tr>\n",
              "    <tr>\n",
              "      <th>19</th>\n",
              "      <td>Amadeus (1984)</td>\n",
              "      <td>0.419829</td>\n",
              "    </tr>\n",
              "    <tr>\n",
              "      <th>20</th>\n",
              "      <td>Rock, The (1996)</td>\n",
              "      <td>0.418539</td>\n",
              "    </tr>\n",
              "    <tr>\n",
              "      <th>21</th>\n",
              "      <td>Empire Strikes Back, The (1980)</td>\n",
              "      <td>0.418488</td>\n",
              "    </tr>\n",
              "    <tr>\n",
              "      <th>22</th>\n",
              "      <td>Leaving Las Vegas (1995)</td>\n",
              "      <td>0.417932</td>\n",
              "    </tr>\n",
              "    <tr>\n",
              "      <th>23</th>\n",
              "      <td>Schindler's List (1993)</td>\n",
              "      <td>0.417702</td>\n",
              "    </tr>\n",
              "    <tr>\n",
              "      <th>24</th>\n",
              "      <td>Alien (1979)</td>\n",
              "      <td>0.417415</td>\n",
              "    </tr>\n",
              "  </tbody>\n",
              "</table>\n",
              "</div>\n",
              "      <button class=\"colab-df-convert\" onclick=\"convertToInteractive('df-98dbdc01-81af-4b1e-8290-9e0d5c15433a')\"\n",
              "              title=\"Convert this dataframe to an interactive table.\"\n",
              "              style=\"display:none;\">\n",
              "        \n",
              "  <svg xmlns=\"http://www.w3.org/2000/svg\" height=\"24px\"viewBox=\"0 0 24 24\"\n",
              "       width=\"24px\">\n",
              "    <path d=\"M0 0h24v24H0V0z\" fill=\"none\"/>\n",
              "    <path d=\"M18.56 5.44l.94 2.06.94-2.06 2.06-.94-2.06-.94-.94-2.06-.94 2.06-2.06.94zm-11 1L8.5 8.5l.94-2.06 2.06-.94-2.06-.94L8.5 2.5l-.94 2.06-2.06.94zm10 10l.94 2.06.94-2.06 2.06-.94-2.06-.94-.94-2.06-.94 2.06-2.06.94z\"/><path d=\"M17.41 7.96l-1.37-1.37c-.4-.4-.92-.59-1.43-.59-.52 0-1.04.2-1.43.59L10.3 9.45l-7.72 7.72c-.78.78-.78 2.05 0 2.83L4 21.41c.39.39.9.59 1.41.59.51 0 1.02-.2 1.41-.59l7.78-7.78 2.81-2.81c.8-.78.8-2.07 0-2.86zM5.41 20L4 18.59l7.72-7.72 1.47 1.35L5.41 20z\"/>\n",
              "  </svg>\n",
              "      </button>\n",
              "      \n",
              "  <style>\n",
              "    .colab-df-container {\n",
              "      display:flex;\n",
              "      flex-wrap:wrap;\n",
              "      gap: 12px;\n",
              "    }\n",
              "\n",
              "    .colab-df-convert {\n",
              "      background-color: #E8F0FE;\n",
              "      border: none;\n",
              "      border-radius: 50%;\n",
              "      cursor: pointer;\n",
              "      display: none;\n",
              "      fill: #1967D2;\n",
              "      height: 32px;\n",
              "      padding: 0 0 0 0;\n",
              "      width: 32px;\n",
              "    }\n",
              "\n",
              "    .colab-df-convert:hover {\n",
              "      background-color: #E2EBFA;\n",
              "      box-shadow: 0px 1px 2px rgba(60, 64, 67, 0.3), 0px 1px 3px 1px rgba(60, 64, 67, 0.15);\n",
              "      fill: #174EA6;\n",
              "    }\n",
              "\n",
              "    [theme=dark] .colab-df-convert {\n",
              "      background-color: #3B4455;\n",
              "      fill: #D2E3FC;\n",
              "    }\n",
              "\n",
              "    [theme=dark] .colab-df-convert:hover {\n",
              "      background-color: #434B5C;\n",
              "      box-shadow: 0px 1px 3px 1px rgba(0, 0, 0, 0.15);\n",
              "      filter: drop-shadow(0px 1px 2px rgba(0, 0, 0, 0.3));\n",
              "      fill: #FFFFFF;\n",
              "    }\n",
              "  </style>\n",
              "\n",
              "      <script>\n",
              "        const buttonEl =\n",
              "          document.querySelector('#df-98dbdc01-81af-4b1e-8290-9e0d5c15433a button.colab-df-convert');\n",
              "        buttonEl.style.display =\n",
              "          google.colab.kernel.accessAllowed ? 'block' : 'none';\n",
              "\n",
              "        async function convertToInteractive(key) {\n",
              "          const element = document.querySelector('#df-98dbdc01-81af-4b1e-8290-9e0d5c15433a');\n",
              "          const dataTable =\n",
              "            await google.colab.kernel.invokeFunction('convertToInteractive',\n",
              "                                                     [key], {});\n",
              "          if (!dataTable) return;\n",
              "\n",
              "          const docLinkHtml = 'Like what you see? Visit the ' +\n",
              "            '<a target=\"_blank\" href=https://colab.research.google.com/notebooks/data_table.ipynb>data table notebook</a>'\n",
              "            + ' to learn more about interactive tables.';\n",
              "          element.innerHTML = '';\n",
              "          dataTable['output_type'] = 'display_data';\n",
              "          await google.colab.output.renderOutput(dataTable, element);\n",
              "          const docLink = document.createElement('div');\n",
              "          docLink.innerHTML = docLinkHtml;\n",
              "          element.appendChild(docLink);\n",
              "        }\n",
              "      </script>\n",
              "    </div>\n",
              "  </div>\n",
              "  "
            ]
          },
          "metadata": {},
          "execution_count": 12
        }
      ]
    },
    {
      "cell_type": "markdown",
      "source": [
        "## 성능평가"
      ],
      "metadata": {
        "id": "mgZ02BS_4D74"
      }
    },
    {
      "cell_type": "markdown",
      "source": [
        "- 사용자가 제일 고평가한 최근 영화와 유사도가 비슷한 영화 뽑기"
      ],
      "metadata": {
        "id": "1t42Rilo4Kf-"
      }
    },
    {
      "cell_type": "code",
      "source": [
        "def movie_title(id,df):\n",
        "    user_love =df[(df['user_id']==id) & (df['rating']==max(df['rating']))][['user_id','movie_title','timestamp']]\n",
        "    user_love = user_love.sort_values('timestamp',ascending=False)\n",
        "    return user_love.iloc[0]['movie_title']"
      ],
      "metadata": {
        "id": "UWNEjFKn4BGC"
      },
      "execution_count": 15,
      "outputs": []
    },
    {
      "cell_type": "markdown",
      "source": [
        "### precision, recall 구하기\n",
        "  - why 4점 이상인가\n",
        "    - 별점은 주관적임\n",
        "    - 대부분은 1점(매우 불만족), 2점(불만족), 3점(보통), 4점(만족), 5점(매우 만족) 이 기준으로 생각하기 때문에 만족(4점)이상을 선택함\n",
        "  "
      ],
      "metadata": {
        "id": "ksD0tdznFd_P"
      }
    },
    {
      "cell_type": "code",
      "source": [
        "def train_score(user_id,title):\n",
        "  count=0\n",
        "  # 유저가 4점이상 평가한 영화들 중에 최근에 별점이 높았던 영화의 precision,recall\n",
        "  user_love= train_data[user_id][train_data[user_id]>=4].reset_index()['movie_title']\n",
        "  user_recommend = train_get_item_cf(title)['movie_title']\n",
        "  for i in user_love:\n",
        "    for j in user_recommend: # 영화 유사도가 높은 25개\n",
        "      if i ==j:\n",
        "        count+=1\n",
        "  \n",
        "  precision = count / len(user_recommend)\n",
        "  if len(user_love)==0:\n",
        "    pass\n",
        "  else: \n",
        "    recall = count/len(user_love)\n",
        "\n",
        "  return precision,recall"
      ],
      "metadata": {
        "id": "4rVlbCzz4cIs"
      },
      "execution_count": 16,
      "outputs": []
    },
    {
      "cell_type": "code",
      "source": [
        "train_score(12,movie_title(12,train))"
      ],
      "metadata": {
        "colab": {
          "base_uri": "https://localhost:8080/"
        },
        "id": "TL5c-1ch4oe_",
        "outputId": "802466d6-adde-4d21-804c-7905f7d81eba"
      },
      "execution_count": 17,
      "outputs": [
        {
          "output_type": "execute_result",
          "data": {
            "text/plain": [
              "(0.56, 0.358974358974359)"
            ]
          },
          "metadata": {},
          "execution_count": 17
        }
      ]
    },
    {
      "cell_type": "markdown",
      "source": [
        "#### 전체(mean) precision@k"
      ],
      "metadata": {
        "id": "y5_Y7v_a4_PF"
      }
    },
    {
      "cell_type": "code",
      "source": [
        "# precision@25\n",
        "def precision(n):\n",
        "  precision=0\n",
        "  total = 0\n",
        "  for i in range(1,n+1):\n",
        "    #데이터 분리로 없는 user_id가 있어 try, except으로 나눠줌\n",
        "    try:\n",
        "      total+=1\n",
        "      precision += train_score(i,movie_title(i,train))[0]\n",
        "    except:\n",
        "      pass\n",
        "  mean_precision = precision/total\n",
        "  return mean_precision"
      ],
      "metadata": {
        "id": "NJYs6L7z4-d0"
      },
      "execution_count": 18,
      "outputs": []
    },
    {
      "cell_type": "code",
      "source": [
        "precision(30)"
      ],
      "metadata": {
        "colab": {
          "base_uri": "https://localhost:8080/"
        },
        "id": "jvO6mKHI4pAC",
        "outputId": "60b036ff-a3e9-4ab6-ca0c-52f4ef69719d"
      },
      "execution_count": 19,
      "outputs": [
        {
          "output_type": "execute_result",
          "data": {
            "text/plain": [
              "0.276"
            ]
          },
          "metadata": {},
          "execution_count": 19
        }
      ]
    },
    {
      "cell_type": "markdown",
      "source": [
        "#### 전체(mean) recall@k"
      ],
      "metadata": {
        "id": "s05bNiNV5Src"
      }
    },
    {
      "cell_type": "code",
      "source": [
        "# recall@25\n",
        "def recall(n):\n",
        "  recall=0\n",
        "  total = 0\n",
        "  for i in range(1,n+1):\n",
        "    try:\n",
        "      total+=1\n",
        "      recall += train_score(i,movie_title(i,train))[1]\n",
        "    except:\n",
        "      pass\n",
        "  mean_recall = recall/total\n",
        "  return mean_recall"
      ],
      "metadata": {
        "id": "URu_66Vv5XYu"
      },
      "execution_count": 20,
      "outputs": []
    },
    {
      "cell_type": "code",
      "source": [
        "recall(30)"
      ],
      "metadata": {
        "colab": {
          "base_uri": "https://localhost:8080/"
        },
        "id": "Zfl95m-45Z3V",
        "outputId": "eb84ecd7-1033-4e1c-e526-b4340ec8c7bc"
      },
      "execution_count": 21,
      "outputs": [
        {
          "output_type": "execute_result",
          "data": {
            "text/plain": [
              "0.15449145516044238"
            ]
          },
          "metadata": {},
          "execution_count": 21
        }
      ]
    },
    {
      "cell_type": "markdown",
      "source": [
        "#### test"
      ],
      "metadata": {
        "id": "TGwC_iRDemui"
      }
    },
    {
      "cell_type": "code",
      "source": [
        "test_data= test.pivot_table('rating',index='movie_title',columns='user_id').fillna(0)\n",
        "test_csr=csr_matrix(test_data.values) \n",
        "test_cos = cosine_similarity(test_csr,test_csr)\n",
        "test_item_cf = pd.DataFrame(data=test_cos, index=test_data.index, columns=test_data.index)"
      ],
      "metadata": {
        "id": "stzZzMW2a_CK"
      },
      "execution_count": 22,
      "outputs": []
    },
    {
      "cell_type": "code",
      "source": [
        "def test_get_item_cf(title):\n",
        "  try:\n",
        "    return test_item_cf[title].sort_values(ascending=False)[1:26].reset_index()\n",
        "\n",
        "  except:\n",
        "    print('Sorry, the movie is not in the database!')"
      ],
      "metadata": {
        "id": "ZisXOAAjerJe"
      },
      "execution_count": 23,
      "outputs": []
    },
    {
      "cell_type": "code",
      "source": [
        "def test_score(user_id,title):\n",
        "  count=0\n",
        "  # 유저가 4점이상 평가한 영화들 중에 최근에 별점이 높았던 영화의 precision,recall\n",
        "  user_love= test_data[user_id][test_data[user_id]>=4].reset_index()['movie_title']\n",
        "  for i in user_love:\n",
        "    for j in test_get_item_cf(title)['movie_title']: # 영화 유사도가 높은 25개\n",
        "      if i ==j:\n",
        "        count+=1\n",
        "  \n",
        "  precision = count / len(test_get_item_cf(title)['movie_title'])\n",
        "  if len(user_love)==0:\n",
        "    pass\n",
        "  else: \n",
        "    recall = count/len(user_love)\n",
        "\n",
        "  return precision,recall"
      ],
      "metadata": {
        "id": "nnFAEgOXfB_G"
      },
      "execution_count": 24,
      "outputs": []
    },
    {
      "cell_type": "code",
      "source": [
        "test_score(12,movie_title(12,test))"
      ],
      "metadata": {
        "colab": {
          "base_uri": "https://localhost:8080/"
        },
        "id": "8wgLULqnfMI8",
        "outputId": "c10f28c8-5a17-4996-e25e-e5189d63eebf"
      },
      "execution_count": 25,
      "outputs": [
        {
          "output_type": "execute_result",
          "data": {
            "text/plain": [
              "(0.08, 0.25)"
            ]
          },
          "metadata": {},
          "execution_count": 25
        }
      ]
    },
    {
      "cell_type": "code",
      "source": [
        "# precision@10\n",
        "def precision(n):\n",
        "  precision=0\n",
        "  total = 0\n",
        "  for i in range(1,n+1):\n",
        "    #데이터 분리로 없는 user_id가 있어 try, except으로 나눠줌\n",
        "    try:\n",
        "      total+=1\n",
        "      precision += test_score(i,movie_title(i,test))[0]\n",
        "    except:\n",
        "      pass\n",
        "  mean_precision = precision/total\n",
        "  return mean_precision\n",
        "\n",
        "# recall@10\n",
        "def recall(n):\n",
        "  recall=0\n",
        "  total = 0\n",
        "  for i in range(1,n+1):\n",
        "    try:\n",
        "      total+=1\n",
        "      recall += test_score(i,movie_title(i,test))[1]\n",
        "    except:\n",
        "      pass\n",
        "  mean_recall = recall/total\n",
        "  return mean_recall"
      ],
      "metadata": {
        "id": "MBODWFmefVjo"
      },
      "execution_count": 26,
      "outputs": []
    },
    {
      "cell_type": "code",
      "source": [
        "print(precision(30),recall(30))"
      ],
      "metadata": {
        "colab": {
          "base_uri": "https://localhost:8080/"
        },
        "id": "4KiDZD_EfiLw",
        "outputId": "4beacce5-3bb7-4432-bb38-594b80d192b1"
      },
      "execution_count": 27,
      "outputs": [
        {
          "output_type": "stream",
          "name": "stdout",
          "text": [
            "0.08266666666666668 0.12366641409211067\n"
          ]
        }
      ]
    },
    {
      "cell_type": "markdown",
      "source": [
        "---------------------------"
      ],
      "metadata": {
        "id": "q4y_iXejepx5"
      }
    }
  ]
}