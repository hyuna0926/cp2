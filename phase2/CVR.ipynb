{
  "nbformat": 4,
  "nbformat_minor": 0,
  "metadata": {
    "colab": {
      "provenance": [],
      "authorship_tag": "ABX9TyO7fz4itbnnRuhz899aCr5S",
      "include_colab_link": true
    },
    "kernelspec": {
      "name": "python3",
      "display_name": "Python 3"
    },
    "language_info": {
      "name": "python"
    }
  },
  "cells": [
    {
      "cell_type": "markdown",
      "metadata": {
        "id": "view-in-github",
        "colab_type": "text"
      },
      "source": [
        "<a href=\"https://colab.research.google.com/github/hyuna0926/cp2/blob/main/phase2/CVR.ipynb\" target=\"_parent\"><img src=\"https://colab.research.google.com/assets/colab-badge.svg\" alt=\"Open In Colab\"/></a>"
      ]
    },
    {
      "cell_type": "code",
      "execution_count": null,
      "metadata": {
        "id": "08XBmc2MbJyB"
      },
      "outputs": [],
      "source": [
        "import pandas as pd\n",
        "import numpy as np"
      ]
    },
    {
      "cell_type": "code",
      "source": [
        "trans = pd.read_parquet('/content/drive/MyDrive/CP2_Phase2/transaction_new.parquet')\n",
        "click=pd.read_parquet('/content/drive/MyDrive/CP2_Phase2/click_stream_new.parquet')"
      ],
      "metadata": {
        "id": "0b1fhjA8cNFr"
      },
      "execution_count": null,
      "outputs": []
    },
    {
      "cell_type": "markdown",
      "source": [
        "## 전환율(CVR)\n",
        "\n",
        "전환수 / 전체 사용자\n",
        "- click_trans\n",
        "  - product_id_x : 장바구니 담은 상품\n",
        "  - product_id_y : 구매한 제품"
      ],
      "metadata": {
        "id": "tbLpGOzGMraQ"
      }
    },
    {
      "cell_type": "code",
      "source": [
        "click_trans = pd.merge(click[['session_id','event_name','event_date','product_id']], trans[['customer_id','session_id','product_id']], on='session_id')"
      ],
      "metadata": {
        "id": "ZoezBMjAvMB6"
      },
      "execution_count": null,
      "outputs": []
    },
    {
      "cell_type": "code",
      "source": [
        "click_trans.head()"
      ],
      "metadata": {
        "colab": {
          "base_uri": "https://localhost:8080/",
          "height": 337
        },
        "id": "psJv-ppKQ0Sj",
        "outputId": "0bf0bcd1-fb09-43ee-e7d9-6aa7ed483513"
      },
      "execution_count": null,
      "outputs": [
        {
          "output_type": "execute_result",
          "data": {
            "text/plain": [
              "                             session_id   event_name  event_date  \\\n",
              "0  7d440441-e67a-4d36-b324-80ffd636d166     HOMEPAGE  2019-09-01   \n",
              "1  7d440441-e67a-4d36-b324-80ffd636d166  ADD_TO_CART  2019-09-01   \n",
              "2  7d440441-e67a-4d36-b324-80ffd636d166      BOOKING  2019-09-01   \n",
              "3  7d440441-e67a-4d36-b324-80ffd636d166       SEARCH  2019-09-01   \n",
              "4  7d440441-e67a-4d36-b324-80ffd636d166     HOMEPAGE  2019-09-01   \n",
              "\n",
              "   product_id_x  customer_id  product_id_y  \n",
              "0             0        18770         15315  \n",
              "1         15315        18770         15315  \n",
              "2             0        18770         15315  \n",
              "3             0        18770         15315  \n",
              "4             0        18770         15315  "
            ],
            "text/html": [
              "\n",
              "  <div id=\"df-9e3c5b82-fae4-48ce-8424-37c5fbdd36e5\">\n",
              "    <div class=\"colab-df-container\">\n",
              "      <div>\n",
              "<style scoped>\n",
              "    .dataframe tbody tr th:only-of-type {\n",
              "        vertical-align: middle;\n",
              "    }\n",
              "\n",
              "    .dataframe tbody tr th {\n",
              "        vertical-align: top;\n",
              "    }\n",
              "\n",
              "    .dataframe thead th {\n",
              "        text-align: right;\n",
              "    }\n",
              "</style>\n",
              "<table border=\"1\" class=\"dataframe\">\n",
              "  <thead>\n",
              "    <tr style=\"text-align: right;\">\n",
              "      <th></th>\n",
              "      <th>session_id</th>\n",
              "      <th>event_name</th>\n",
              "      <th>event_date</th>\n",
              "      <th>product_id_x</th>\n",
              "      <th>customer_id</th>\n",
              "      <th>product_id_y</th>\n",
              "    </tr>\n",
              "  </thead>\n",
              "  <tbody>\n",
              "    <tr>\n",
              "      <th>0</th>\n",
              "      <td>7d440441-e67a-4d36-b324-80ffd636d166</td>\n",
              "      <td>HOMEPAGE</td>\n",
              "      <td>2019-09-01</td>\n",
              "      <td>0</td>\n",
              "      <td>18770</td>\n",
              "      <td>15315</td>\n",
              "    </tr>\n",
              "    <tr>\n",
              "      <th>1</th>\n",
              "      <td>7d440441-e67a-4d36-b324-80ffd636d166</td>\n",
              "      <td>ADD_TO_CART</td>\n",
              "      <td>2019-09-01</td>\n",
              "      <td>15315</td>\n",
              "      <td>18770</td>\n",
              "      <td>15315</td>\n",
              "    </tr>\n",
              "    <tr>\n",
              "      <th>2</th>\n",
              "      <td>7d440441-e67a-4d36-b324-80ffd636d166</td>\n",
              "      <td>BOOKING</td>\n",
              "      <td>2019-09-01</td>\n",
              "      <td>0</td>\n",
              "      <td>18770</td>\n",
              "      <td>15315</td>\n",
              "    </tr>\n",
              "    <tr>\n",
              "      <th>3</th>\n",
              "      <td>7d440441-e67a-4d36-b324-80ffd636d166</td>\n",
              "      <td>SEARCH</td>\n",
              "      <td>2019-09-01</td>\n",
              "      <td>0</td>\n",
              "      <td>18770</td>\n",
              "      <td>15315</td>\n",
              "    </tr>\n",
              "    <tr>\n",
              "      <th>4</th>\n",
              "      <td>7d440441-e67a-4d36-b324-80ffd636d166</td>\n",
              "      <td>HOMEPAGE</td>\n",
              "      <td>2019-09-01</td>\n",
              "      <td>0</td>\n",
              "      <td>18770</td>\n",
              "      <td>15315</td>\n",
              "    </tr>\n",
              "  </tbody>\n",
              "</table>\n",
              "</div>\n",
              "      <button class=\"colab-df-convert\" onclick=\"convertToInteractive('df-9e3c5b82-fae4-48ce-8424-37c5fbdd36e5')\"\n",
              "              title=\"Convert this dataframe to an interactive table.\"\n",
              "              style=\"display:none;\">\n",
              "        \n",
              "  <svg xmlns=\"http://www.w3.org/2000/svg\" height=\"24px\"viewBox=\"0 0 24 24\"\n",
              "       width=\"24px\">\n",
              "    <path d=\"M0 0h24v24H0V0z\" fill=\"none\"/>\n",
              "    <path d=\"M18.56 5.44l.94 2.06.94-2.06 2.06-.94-2.06-.94-.94-2.06-.94 2.06-2.06.94zm-11 1L8.5 8.5l.94-2.06 2.06-.94-2.06-.94L8.5 2.5l-.94 2.06-2.06.94zm10 10l.94 2.06.94-2.06 2.06-.94-2.06-.94-.94-2.06-.94 2.06-2.06.94z\"/><path d=\"M17.41 7.96l-1.37-1.37c-.4-.4-.92-.59-1.43-.59-.52 0-1.04.2-1.43.59L10.3 9.45l-7.72 7.72c-.78.78-.78 2.05 0 2.83L4 21.41c.39.39.9.59 1.41.59.51 0 1.02-.2 1.41-.59l7.78-7.78 2.81-2.81c.8-.78.8-2.07 0-2.86zM5.41 20L4 18.59l7.72-7.72 1.47 1.35L5.41 20z\"/>\n",
              "  </svg>\n",
              "      </button>\n",
              "      \n",
              "  <style>\n",
              "    .colab-df-container {\n",
              "      display:flex;\n",
              "      flex-wrap:wrap;\n",
              "      gap: 12px;\n",
              "    }\n",
              "\n",
              "    .colab-df-convert {\n",
              "      background-color: #E8F0FE;\n",
              "      border: none;\n",
              "      border-radius: 50%;\n",
              "      cursor: pointer;\n",
              "      display: none;\n",
              "      fill: #1967D2;\n",
              "      height: 32px;\n",
              "      padding: 0 0 0 0;\n",
              "      width: 32px;\n",
              "    }\n",
              "\n",
              "    .colab-df-convert:hover {\n",
              "      background-color: #E2EBFA;\n",
              "      box-shadow: 0px 1px 2px rgba(60, 64, 67, 0.3), 0px 1px 3px 1px rgba(60, 64, 67, 0.15);\n",
              "      fill: #174EA6;\n",
              "    }\n",
              "\n",
              "    [theme=dark] .colab-df-convert {\n",
              "      background-color: #3B4455;\n",
              "      fill: #D2E3FC;\n",
              "    }\n",
              "\n",
              "    [theme=dark] .colab-df-convert:hover {\n",
              "      background-color: #434B5C;\n",
              "      box-shadow: 0px 1px 3px 1px rgba(0, 0, 0, 0.15);\n",
              "      filter: drop-shadow(0px 1px 2px rgba(0, 0, 0, 0.3));\n",
              "      fill: #FFFFFF;\n",
              "    }\n",
              "  </style>\n",
              "\n",
              "      <script>\n",
              "        const buttonEl =\n",
              "          document.querySelector('#df-9e3c5b82-fae4-48ce-8424-37c5fbdd36e5 button.colab-df-convert');\n",
              "        buttonEl.style.display =\n",
              "          google.colab.kernel.accessAllowed ? 'block' : 'none';\n",
              "\n",
              "        async function convertToInteractive(key) {\n",
              "          const element = document.querySelector('#df-9e3c5b82-fae4-48ce-8424-37c5fbdd36e5');\n",
              "          const dataTable =\n",
              "            await google.colab.kernel.invokeFunction('convertToInteractive',\n",
              "                                                     [key], {});\n",
              "          if (!dataTable) return;\n",
              "\n",
              "          const docLinkHtml = 'Like what you see? Visit the ' +\n",
              "            '<a target=\"_blank\" href=https://colab.research.google.com/notebooks/data_table.ipynb>data table notebook</a>'\n",
              "            + ' to learn more about interactive tables.';\n",
              "          element.innerHTML = '';\n",
              "          dataTable['output_type'] = 'display_data';\n",
              "          await google.colab.output.renderOutput(dataTable, element);\n",
              "          const docLink = document.createElement('div');\n",
              "          docLink.innerHTML = docLinkHtml;\n",
              "          element.appendChild(docLink);\n",
              "        }\n",
              "      </script>\n",
              "    </div>\n",
              "  </div>\n",
              "  "
            ]
          },
          "metadata": {},
          "execution_count": 38
        }
      ]
    },
    {
      "cell_type": "markdown",
      "source": [
        "### 전체 방문자 -> cart, booking(구매)"
      ],
      "metadata": {
        "id": "WiMaq1IQM0R5"
      }
    },
    {
      "cell_type": "code",
      "source": [
        "cart_purchase = click_trans.loc[click_trans['event_name'].isin(['ADD_TO_CART', 'BOOKING'])]"
      ],
      "metadata": {
        "id": "P7KGopJsLF_i"
      },
      "execution_count": null,
      "outputs": []
    },
    {
      "cell_type": "code",
      "source": [
        "cart_purchase = cart_purchase.loc[cart_purchase['customer_id'].isin(click_trans['customer_id'].unique())]\n",
        "(cart_purchase['customer_id'].nunique() / click_trans['customer_id'].nunique()) * 100"
      ],
      "metadata": {
        "colab": {
          "base_uri": "https://localhost:8080/"
        },
        "id": "bjjjwQr1LQXM",
        "outputId": "e17fabfa-9aa6-4aaf-bd9c-551f2f1c2b69"
      },
      "execution_count": null,
      "outputs": [
        {
          "output_type": "execute_result",
          "data": {
            "text/plain": [
              "100.0"
            ]
          },
          "metadata": {},
          "execution_count": 28
        }
      ]
    },
    {
      "cell_type": "markdown",
      "source": [
        "### 전체 방문자 -> cart"
      ],
      "metadata": {
        "id": "t_XI-Dw1M43v"
      }
    },
    {
      "cell_type": "code",
      "source": [
        "only_cart = click_trans.loc[click_trans['event_name'] == 'ADD_TO_CART']\n",
        "only_cart = only_cart.loc[only_cart['customer_id'].isin(click_trans['customer_id'].unique())]\n",
        "(only_cart['customer_id'].nunique() / click_trans['customer_id'].nunique()) * 100"
      ],
      "metadata": {
        "colab": {
          "base_uri": "https://localhost:8080/"
        },
        "id": "aFXWLIagLcO9",
        "outputId": "7fe44f69-fe98-4ac4-a41f-272056576455"
      },
      "execution_count": null,
      "outputs": [
        {
          "output_type": "execute_result",
          "data": {
            "text/plain": [
              "100.0"
            ]
          },
          "metadata": {},
          "execution_count": 30
        }
      ]
    },
    {
      "cell_type": "markdown",
      "source": [
        "### 전체 방문자 -> booking"
      ],
      "metadata": {
        "id": "-ZLHYIkoM8zC"
      }
    },
    {
      "cell_type": "code",
      "source": [
        "only_purchase = click_trans.loc[click_trans['event_name'] == 'BOOKING']\n",
        "only_purchase = only_purchase.loc[only_purchase['customer_id'].isin(click_trans['customer_id'].unique())]\n",
        "(only_purchase['customer_id'].nunique() / click_trans['customer_id'].nunique()) * 100"
      ],
      "metadata": {
        "colab": {
          "base_uri": "https://localhost:8080/"
        },
        "id": "EGJaR_-NLoR0",
        "outputId": "9f43aa29-03b9-4bc6-f83a-3b3ee67e1d42"
      },
      "execution_count": null,
      "outputs": [
        {
          "output_type": "execute_result",
          "data": {
            "text/plain": [
              "100.0"
            ]
          },
          "metadata": {},
          "execution_count": 31
        }
      ]
    },
    {
      "cell_type": "markdown",
      "source": [
        "### cart -> booking(동일한 상품을 샀는지) 확인"
      ],
      "metadata": {
        "id": "MYtRqzWgQcPK"
      }
    },
    {
      "cell_type": "code",
      "source": [
        "cart = click_trans.loc[click_trans['event_name']=='ADD_TO_CART']"
      ],
      "metadata": {
        "id": "4xXAmCs1RK4c"
      },
      "execution_count": null,
      "outputs": []
    },
    {
      "cell_type": "code",
      "source": [
        "cart[cart['customer_id']==95154]"
      ],
      "metadata": {
        "id": "e1rOmcvUYKvt"
      },
      "execution_count": null,
      "outputs": []
    },
    {
      "cell_type": "code",
      "source": [
        "# 카트에 담은 상품을 샀는지 확인\n",
        "cart_booking = cart[cart['product_id_x']==cart['product_id_y']]"
      ],
      "metadata": {
        "id": "MA0fru2yXLmx"
      },
      "execution_count": null,
      "outputs": []
    },
    {
      "cell_type": "code",
      "source": [
        "cart_booking.shape[0]"
      ],
      "metadata": {
        "colab": {
          "base_uri": "https://localhost:8080/"
        },
        "id": "D_b9WWWAXyKu",
        "outputId": "b2cb6b87-2ad7-4bfa-a411-d28db2538629"
      },
      "execution_count": null,
      "outputs": [
        {
          "output_type": "execute_result",
          "data": {
            "text/plain": [
              "1254675"
            ]
          },
          "metadata": {},
          "execution_count": 66
        }
      ]
    },
    {
      "cell_type": "code",
      "source": [
        "cart.shape[0]"
      ],
      "metadata": {
        "colab": {
          "base_uri": "https://localhost:8080/"
        },
        "id": "J0Fg6eP6XzGQ",
        "outputId": "b557c672-38a8-43ac-b5e2-af3e1d890276"
      },
      "execution_count": null,
      "outputs": [
        {
          "output_type": "execute_result",
          "data": {
            "text/plain": [
              "4961382"
            ]
          },
          "metadata": {},
          "execution_count": 67
        }
      ]
    },
    {
      "cell_type": "code",
      "source": [
        "cart_booking.shape[0]/cart.shape[0]"
      ],
      "metadata": {
        "colab": {
          "base_uri": "https://localhost:8080/"
        },
        "id": "G2OimjbGXm5U",
        "outputId": "f2d41647-34bf-44d2-dbe9-07cb0d143bb7"
      },
      "execution_count": null,
      "outputs": [
        {
          "output_type": "execute_result",
          "data": {
            "text/plain": [
              "0.252888207358353"
            ]
          },
          "metadata": {},
          "execution_count": 65
        }
      ]
    }
  ]
}