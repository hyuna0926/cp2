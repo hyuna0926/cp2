{
  "nbformat": 4,
  "nbformat_minor": 0,
  "metadata": {
    "colab": {
      "provenance": []
    },
    "kernelspec": {
      "name": "python3",
      "display_name": "Python 3"
    },
    "language_info": {
      "name": "python"
    },
    "widgets": {
      "application/vnd.jupyter.widget-state+json": {
        "47cb4bf5ddf14e88bb565fe328886692": {
          "model_module": "@jupyter-widgets/controls",
          "model_name": "HBoxModel",
          "model_module_version": "1.5.0",
          "state": {
            "_dom_classes": [],
            "_model_module": "@jupyter-widgets/controls",
            "_model_module_version": "1.5.0",
            "_model_name": "HBoxModel",
            "_view_count": null,
            "_view_module": "@jupyter-widgets/controls",
            "_view_module_version": "1.5.0",
            "_view_name": "HBoxView",
            "box_style": "",
            "children": [
              "IPY_MODEL_4886a612632b4e79ac9bf506cdccad25",
              "IPY_MODEL_3aa29dc4c2fe4b9585ff96df3f760ae3",
              "IPY_MODEL_3b6a4ea98fa848428ce5365ae7e4bf1b"
            ],
            "layout": "IPY_MODEL_8f7c378d83be4e378edfd31657c674f7"
          }
        },
        "4886a612632b4e79ac9bf506cdccad25": {
          "model_module": "@jupyter-widgets/controls",
          "model_name": "HTMLModel",
          "model_module_version": "1.5.0",
          "state": {
            "_dom_classes": [],
            "_model_module": "@jupyter-widgets/controls",
            "_model_module_version": "1.5.0",
            "_model_name": "HTMLModel",
            "_view_count": null,
            "_view_module": "@jupyter-widgets/controls",
            "_view_module_version": "1.5.0",
            "_view_name": "HTMLView",
            "description": "",
            "description_tooltip": null,
            "layout": "IPY_MODEL_4a11028e21f64eee8d0494c0582b0f86",
            "placeholder": "​",
            "style": "IPY_MODEL_fadd9e3c35914e608c06a4d7893bab40",
            "value": "100%"
          }
        },
        "3aa29dc4c2fe4b9585ff96df3f760ae3": {
          "model_module": "@jupyter-widgets/controls",
          "model_name": "FloatProgressModel",
          "model_module_version": "1.5.0",
          "state": {
            "_dom_classes": [],
            "_model_module": "@jupyter-widgets/controls",
            "_model_module_version": "1.5.0",
            "_model_name": "FloatProgressModel",
            "_view_count": null,
            "_view_module": "@jupyter-widgets/controls",
            "_view_module_version": "1.5.0",
            "_view_name": "ProgressView",
            "bar_style": "success",
            "description": "",
            "description_tooltip": null,
            "layout": "IPY_MODEL_1762dc1c066248f29de415587e29e03f",
            "max": 100,
            "min": 0,
            "orientation": "horizontal",
            "style": "IPY_MODEL_405c6b22b96d4ca4ba2be376fece34ff",
            "value": 100
          }
        },
        "3b6a4ea98fa848428ce5365ae7e4bf1b": {
          "model_module": "@jupyter-widgets/controls",
          "model_name": "HTMLModel",
          "model_module_version": "1.5.0",
          "state": {
            "_dom_classes": [],
            "_model_module": "@jupyter-widgets/controls",
            "_model_module_version": "1.5.0",
            "_model_name": "HTMLModel",
            "_view_count": null,
            "_view_module": "@jupyter-widgets/controls",
            "_view_module_version": "1.5.0",
            "_view_name": "HTMLView",
            "description": "",
            "description_tooltip": null,
            "layout": "IPY_MODEL_9d8f2bf687e443bb8b2949ecf954f65b",
            "placeholder": "​",
            "style": "IPY_MODEL_38e9620546ae4e60a7a87331fcec843f",
            "value": " 100/100 [00:53&lt;00:00,  2.25it/s]"
          }
        },
        "8f7c378d83be4e378edfd31657c674f7": {
          "model_module": "@jupyter-widgets/base",
          "model_name": "LayoutModel",
          "model_module_version": "1.2.0",
          "state": {
            "_model_module": "@jupyter-widgets/base",
            "_model_module_version": "1.2.0",
            "_model_name": "LayoutModel",
            "_view_count": null,
            "_view_module": "@jupyter-widgets/base",
            "_view_module_version": "1.2.0",
            "_view_name": "LayoutView",
            "align_content": null,
            "align_items": null,
            "align_self": null,
            "border": null,
            "bottom": null,
            "display": null,
            "flex": null,
            "flex_flow": null,
            "grid_area": null,
            "grid_auto_columns": null,
            "grid_auto_flow": null,
            "grid_auto_rows": null,
            "grid_column": null,
            "grid_gap": null,
            "grid_row": null,
            "grid_template_areas": null,
            "grid_template_columns": null,
            "grid_template_rows": null,
            "height": null,
            "justify_content": null,
            "justify_items": null,
            "left": null,
            "margin": null,
            "max_height": null,
            "max_width": null,
            "min_height": null,
            "min_width": null,
            "object_fit": null,
            "object_position": null,
            "order": null,
            "overflow": null,
            "overflow_x": null,
            "overflow_y": null,
            "padding": null,
            "right": null,
            "top": null,
            "visibility": null,
            "width": null
          }
        },
        "4a11028e21f64eee8d0494c0582b0f86": {
          "model_module": "@jupyter-widgets/base",
          "model_name": "LayoutModel",
          "model_module_version": "1.2.0",
          "state": {
            "_model_module": "@jupyter-widgets/base",
            "_model_module_version": "1.2.0",
            "_model_name": "LayoutModel",
            "_view_count": null,
            "_view_module": "@jupyter-widgets/base",
            "_view_module_version": "1.2.0",
            "_view_name": "LayoutView",
            "align_content": null,
            "align_items": null,
            "align_self": null,
            "border": null,
            "bottom": null,
            "display": null,
            "flex": null,
            "flex_flow": null,
            "grid_area": null,
            "grid_auto_columns": null,
            "grid_auto_flow": null,
            "grid_auto_rows": null,
            "grid_column": null,
            "grid_gap": null,
            "grid_row": null,
            "grid_template_areas": null,
            "grid_template_columns": null,
            "grid_template_rows": null,
            "height": null,
            "justify_content": null,
            "justify_items": null,
            "left": null,
            "margin": null,
            "max_height": null,
            "max_width": null,
            "min_height": null,
            "min_width": null,
            "object_fit": null,
            "object_position": null,
            "order": null,
            "overflow": null,
            "overflow_x": null,
            "overflow_y": null,
            "padding": null,
            "right": null,
            "top": null,
            "visibility": null,
            "width": null
          }
        },
        "fadd9e3c35914e608c06a4d7893bab40": {
          "model_module": "@jupyter-widgets/controls",
          "model_name": "DescriptionStyleModel",
          "model_module_version": "1.5.0",
          "state": {
            "_model_module": "@jupyter-widgets/controls",
            "_model_module_version": "1.5.0",
            "_model_name": "DescriptionStyleModel",
            "_view_count": null,
            "_view_module": "@jupyter-widgets/base",
            "_view_module_version": "1.2.0",
            "_view_name": "StyleView",
            "description_width": ""
          }
        },
        "1762dc1c066248f29de415587e29e03f": {
          "model_module": "@jupyter-widgets/base",
          "model_name": "LayoutModel",
          "model_module_version": "1.2.0",
          "state": {
            "_model_module": "@jupyter-widgets/base",
            "_model_module_version": "1.2.0",
            "_model_name": "LayoutModel",
            "_view_count": null,
            "_view_module": "@jupyter-widgets/base",
            "_view_module_version": "1.2.0",
            "_view_name": "LayoutView",
            "align_content": null,
            "align_items": null,
            "align_self": null,
            "border": null,
            "bottom": null,
            "display": null,
            "flex": null,
            "flex_flow": null,
            "grid_area": null,
            "grid_auto_columns": null,
            "grid_auto_flow": null,
            "grid_auto_rows": null,
            "grid_column": null,
            "grid_gap": null,
            "grid_row": null,
            "grid_template_areas": null,
            "grid_template_columns": null,
            "grid_template_rows": null,
            "height": null,
            "justify_content": null,
            "justify_items": null,
            "left": null,
            "margin": null,
            "max_height": null,
            "max_width": null,
            "min_height": null,
            "min_width": null,
            "object_fit": null,
            "object_position": null,
            "order": null,
            "overflow": null,
            "overflow_x": null,
            "overflow_y": null,
            "padding": null,
            "right": null,
            "top": null,
            "visibility": null,
            "width": null
          }
        },
        "405c6b22b96d4ca4ba2be376fece34ff": {
          "model_module": "@jupyter-widgets/controls",
          "model_name": "ProgressStyleModel",
          "model_module_version": "1.5.0",
          "state": {
            "_model_module": "@jupyter-widgets/controls",
            "_model_module_version": "1.5.0",
            "_model_name": "ProgressStyleModel",
            "_view_count": null,
            "_view_module": "@jupyter-widgets/base",
            "_view_module_version": "1.2.0",
            "_view_name": "StyleView",
            "bar_color": null,
            "description_width": ""
          }
        },
        "9d8f2bf687e443bb8b2949ecf954f65b": {
          "model_module": "@jupyter-widgets/base",
          "model_name": "LayoutModel",
          "model_module_version": "1.2.0",
          "state": {
            "_model_module": "@jupyter-widgets/base",
            "_model_module_version": "1.2.0",
            "_model_name": "LayoutModel",
            "_view_count": null,
            "_view_module": "@jupyter-widgets/base",
            "_view_module_version": "1.2.0",
            "_view_name": "LayoutView",
            "align_content": null,
            "align_items": null,
            "align_self": null,
            "border": null,
            "bottom": null,
            "display": null,
            "flex": null,
            "flex_flow": null,
            "grid_area": null,
            "grid_auto_columns": null,
            "grid_auto_flow": null,
            "grid_auto_rows": null,
            "grid_column": null,
            "grid_gap": null,
            "grid_row": null,
            "grid_template_areas": null,
            "grid_template_columns": null,
            "grid_template_rows": null,
            "height": null,
            "justify_content": null,
            "justify_items": null,
            "left": null,
            "margin": null,
            "max_height": null,
            "max_width": null,
            "min_height": null,
            "min_width": null,
            "object_fit": null,
            "object_position": null,
            "order": null,
            "overflow": null,
            "overflow_x": null,
            "overflow_y": null,
            "padding": null,
            "right": null,
            "top": null,
            "visibility": null,
            "width": null
          }
        },
        "38e9620546ae4e60a7a87331fcec843f": {
          "model_module": "@jupyter-widgets/controls",
          "model_name": "DescriptionStyleModel",
          "model_module_version": "1.5.0",
          "state": {
            "_model_module": "@jupyter-widgets/controls",
            "_model_module_version": "1.5.0",
            "_model_name": "DescriptionStyleModel",
            "_view_count": null,
            "_view_module": "@jupyter-widgets/base",
            "_view_module_version": "1.2.0",
            "_view_name": "StyleView",
            "description_width": ""
          }
        }
      }
    }
  },
  "cells": [
    {
      "cell_type": "markdown",
      "source": [
        "# implicit"
      ],
      "metadata": {
        "id": "pj-FmyInJK6r"
      }
    },
    {
      "cell_type": "markdown",
      "source": [
        "- implicit은 암시적인 데이터에 적합\n",
        "- 유저가 봤는지 안봤는지에 초점을 두려고 함\n",
        "- 1점이상이면 1, 0점이면 0으로 둠"
      ],
      "metadata": {
        "id": "wdRjaXpIMBYp"
      }
    },
    {
      "cell_type": "code",
      "source": [
        "! pip install implicit"
      ],
      "metadata": {
        "colab": {
          "base_uri": "https://localhost:8080/"
        },
        "id": "9LfCn4SPJmxg",
        "outputId": "2446b25a-8287-44ea-ff05-ddfee9772d0b"
      },
      "execution_count": 1,
      "outputs": [
        {
          "output_type": "stream",
          "name": "stdout",
          "text": [
            "Looking in indexes: https://pypi.org/simple, https://us-python.pkg.dev/colab-wheels/public/simple/\n",
            "Collecting implicit\n",
            "  Downloading implicit-0.6.2-cp38-cp38-manylinux2014_x86_64.whl (18.6 MB)\n",
            "\u001b[2K     \u001b[90m━━━━━━━━━━━━━━━━━━━━━━━━━━━━━━━━━━━━━━━━\u001b[0m \u001b[32m18.6/18.6 MB\u001b[0m \u001b[31m34.6 MB/s\u001b[0m eta \u001b[36m0:00:00\u001b[0m\n",
            "\u001b[?25hRequirement already satisfied: tqdm>=4.27 in /usr/local/lib/python3.8/dist-packages (from implicit) (4.64.1)\n",
            "Requirement already satisfied: scipy>=0.16 in /usr/local/lib/python3.8/dist-packages (from implicit) (1.7.3)\n",
            "Requirement already satisfied: numpy in /usr/local/lib/python3.8/dist-packages (from implicit) (1.21.6)\n",
            "Installing collected packages: implicit\n",
            "Successfully installed implicit-0.6.2\n"
          ]
        }
      ]
    },
    {
      "cell_type": "code",
      "source": [
        "import numpy as np\n",
        "import pandas as pd\n",
        "import seaborn as sns\n",
        "import matplotlib.pyplot as plt\n",
        "from sklearn.model_selection import train_test_split\n",
        "from scipy.sparse import csr_matrix\n",
        "\n",
        "from implicit.als import AlternatingLeastSquares as ALS\n",
        "import implicit\n",
        "import random"
      ],
      "metadata": {
        "id": "u6M2WiTOJShv",
        "colab": {
          "base_uri": "https://localhost:8080/"
        },
        "outputId": "014f942a-9b4c-4034-df35-a9e894d9314c"
      },
      "execution_count": 2,
      "outputs": [
        {
          "output_type": "stream",
          "name": "stderr",
          "text": [
            "/usr/local/lib/python3.8/dist-packages/implicit/gpu/__init__.py:13: UserWarning: CUDA extension is built, but disabling GPU support because of 'Cuda Error: no CUDA-capable device is detected (/project/./implicit/gpu/utils.h:71)'\n",
            "  warnings.warn(\n"
          ]
        }
      ]
    },
    {
      "cell_type": "markdown",
      "source": [
        "### 데이터 불러오기"
      ],
      "metadata": {
        "id": "MWXqECnVq4qq"
      }
    },
    {
      "cell_type": "code",
      "source": [
        "df=pd.read_csv('/content/drive/MyDrive/ml-100k/movie_lens.csv', index_col=0)\n",
        "df_c = df.astype(dtype='int32',errors='ignore')\n",
        "df_c.iloc[:,5:7]=df_c.iloc[:,5:7].astype('category')\n",
        "df_c.iloc[:,-1:]=df_c.iloc[:,-1:].astype('category')"
      ],
      "metadata": {
        "id": "dkwY5Zm-TieI"
      },
      "execution_count": 4,
      "outputs": []
    },
    {
      "cell_type": "markdown",
      "source": [
        "- 데이터 삭제"
      ],
      "metadata": {
        "id": "G5KCFkc_UaJa"
      }
    },
    {
      "cell_type": "code",
      "source": [
        "unknown = df_c['movie_title'] !='unknown'\n",
        "df_c = df_c[unknown]"
      ],
      "metadata": {
        "id": "Qph_WFG1UVzb"
      },
      "execution_count": 5,
      "outputs": []
    },
    {
      "cell_type": "code",
      "source": [
        "train, test = train_test_split(df_c[['user_id','movie_id','rating']],test_size=0.2,\n",
        "                               shuffle=True, random_state=3)"
      ],
      "metadata": {
        "id": "kCdlydmtUiky"
      },
      "execution_count": 6,
      "outputs": []
    },
    {
      "cell_type": "code",
      "source": [
        "train_matrix_p = train.pivot_table('rating', index='user_id', columns='movie_id').fillna(0)\n",
        "test_matrix_p = test.pivot_table('rating', index='user_id', columns='movie_id').fillna(0)\n",
        "\n",
        "train_matrix=csr_matrix(train_matrix_p.values)\n",
        "test_matrix=csr_matrix(test_matrix_p.values)"
      ],
      "metadata": {
        "id": "G2E51kbjWlhA"
      },
      "execution_count": 11,
      "outputs": []
    },
    {
      "cell_type": "markdown",
      "source": [
        "### 훈련 데이터 만들기\n",
        "  - 훈련 데이터는 랜덤하게 일정한 확률로유저/아이템 상호작용 몇 개를 가려 고객이 그 아이템을 구매한 적이 없는 것처럼 만듭니다 (= 몇 개의 구매 수량을 0으로 채워넣습니다). \n",
        "  - 테스트 데이터는 원본 데이터에서 구매한 이력이 있으면 1, 없으면 0으로 채운 행렬입니다. \n",
        "  - 이런 방식으로 데이터를 세팅하면, 테스트 데이터에서 얼마나 유저가 실제 구매한 아이템이 추천됐는지 파악할 수 있습니다. 만약 유저가 추천된 아이템을 실제 구매한 경우가 많을 경우 추천 시스템이 제대로 작동한다 말할 수 있겠죠."
      ],
      "metadata": {
        "id": "tetmt8zBMyiq"
      }
    },
    {
      "cell_type": "markdown",
      "source": [
        "![image.png](data:image/png;base64,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)"
      ],
      "metadata": {
        "id": "tmsmgG0OM2gf"
      }
    },
    {
      "cell_type": "code",
      "source": [
        "def make_train (matrix, percentage = .2):\n",
        "    '''\n",
        "    -----------------------------------------------------\n",
        "    설명\n",
        "    유저-아이템 행렬 (matrix)에서 \n",
        "    1. 0 이상의 값을 가지면 1의 값을 갖도록 binary하게 테스트 데이터를 만들고\n",
        "    2. 훈련 데이터는 원본 행렬에서 percentage 비율만큼 0으로 바뀜\n",
        "    \n",
        "    -----------------------------------------------------\n",
        "    반환\n",
        "    training_set: 훈련 데이터에서 percentage 비율만큼 0으로 바뀐 행렬\n",
        "    test_set:     원본 유저-아이템 행렬의 복사본\n",
        "    user_inds:    훈련 데이터에서 0으로 바뀐 유저의 index\n",
        "    '''\n",
        "    test_set = matrix.copy()\n",
        "    test_set[test_set !=0] = 1 # binary하게 만들기\n",
        "    \n",
        "    training_set = matrix.copy()\n",
        "    nonzero_inds = training_set.nonzero()\n",
        "    nonzero_pairs = list(zip(nonzero_inds[0], nonzero_inds[1]))\n",
        "    \n",
        "    random.seed(0)\n",
        "    num_samples = int(np.ceil(percentage * len(nonzero_pairs)))\n",
        "    samples = random.sample (nonzero_pairs, num_samples)\n",
        "    \n",
        "    user_inds = [index[0] for index in samples]\n",
        "    item_inds = [index[1] for index in samples]\n",
        "    \n",
        "    training_set[user_inds, item_inds] = 0\n",
        "    training_set.eliminate_zeros()\n",
        "    \n",
        "    return training_set, test_set, list(set(user_inds))\n",
        "\n",
        "# 훈련, 테스트 데이터 생성\n",
        "product_train, product_test, product_users_altered = make_train(train_matrix, 0.2)"
      ],
      "metadata": {
        "id": "j8OZ8cGKM2Fw"
      },
      "execution_count": 12,
      "outputs": []
    },
    {
      "cell_type": "code",
      "source": [
        "ALS = implicit.als.AlternatingLeastSquares(\n",
        "    factors=200, regularization=40,\n",
        "    iterations=100, random_state=42\n",
        ")"
      ],
      "metadata": {
        "id": "8kNYNG_GO9nD"
      },
      "execution_count": 17,
      "outputs": []
    },
    {
      "cell_type": "code",
      "source": [
        "#신뢰행렬 alpha\n",
        "alpha=40"
      ],
      "metadata": {
        "id": "AN67XiilW_uk"
      },
      "execution_count": 18,
      "outputs": []
    },
    {
      "cell_type": "code",
      "source": [
        "ALS.fit((product_train*alpha).astype('double'))"
      ],
      "metadata": {
        "colab": {
          "base_uri": "https://localhost:8080/",
          "height": 49,
          "referenced_widgets": [
            "47cb4bf5ddf14e88bb565fe328886692",
            "4886a612632b4e79ac9bf506cdccad25",
            "3aa29dc4c2fe4b9585ff96df3f760ae3",
            "3b6a4ea98fa848428ce5365ae7e4bf1b",
            "8f7c378d83be4e378edfd31657c674f7",
            "4a11028e21f64eee8d0494c0582b0f86",
            "fadd9e3c35914e608c06a4d7893bab40",
            "1762dc1c066248f29de415587e29e03f",
            "405c6b22b96d4ca4ba2be376fece34ff",
            "9d8f2bf687e443bb8b2949ecf954f65b",
            "38e9620546ae4e60a7a87331fcec843f"
          ]
        },
        "id": "52NreIOkPahW",
        "outputId": "38e89d27-e27a-4437-b40d-9692372f4385"
      },
      "execution_count": 19,
      "outputs": [
        {
          "output_type": "display_data",
          "data": {
            "text/plain": [
              "  0%|          | 0/100 [00:00<?, ?it/s]"
            ],
            "application/vnd.jupyter.widget-view+json": {
              "version_major": 2,
              "version_minor": 0,
              "model_id": "47cb4bf5ddf14e88bb565fe328886692"
            }
          },
          "metadata": {}
        }
      ]
    },
    {
      "cell_type": "code",
      "source": [
        "user_vecs = ALS.user_factors\n",
        "item_vecs = ALS.item_factors"
      ],
      "metadata": {
        "id": "njyWiqQsVKFp"
      },
      "execution_count": 20,
      "outputs": []
    },
    {
      "cell_type": "code",
      "source": [
        "user_vecs[0].shape"
      ],
      "metadata": {
        "colab": {
          "base_uri": "https://localhost:8080/"
        },
        "id": "r6kAFdsKsSrf",
        "outputId": "77ac8e3d-0eef-4ddf-e4d8-15520ed1f470"
      },
      "execution_count": 21,
      "outputs": [
        {
          "output_type": "execute_result",
          "data": {
            "text/plain": [
              "(200,)"
            ]
          },
          "metadata": {},
          "execution_count": 21
        }
      ]
    },
    {
      "cell_type": "code",
      "source": [
        "predictions = [csr_matrix(user_vecs),csr_matrix(item_vecs.T)]"
      ],
      "metadata": {
        "id": "6kLIZpklXPu3"
      },
      "execution_count": 22,
      "outputs": []
    },
    {
      "cell_type": "code",
      "source": [
        "n_similar= 25\n",
        "user_id = 50\n",
        "similar_items = ALS.similar_items(user_id,n_similar)"
      ],
      "metadata": {
        "id": "guW5AYWcdv2s"
      },
      "execution_count": 35,
      "outputs": []
    },
    {
      "cell_type": "code",
      "source": [
        "similar_items"
      ],
      "metadata": {
        "colab": {
          "base_uri": "https://localhost:8080/"
        },
        "id": "xwYA5Ewbsynm",
        "outputId": "f601ce21-8661-4bae-fff9-d61cfc8bf87b"
      },
      "execution_count": 36,
      "outputs": [
        {
          "output_type": "execute_result",
          "data": {
            "text/plain": [
              "(array([  50,  697,   42,  935,  718,  400,  568, 1086,  621,   76,  939,\n",
              "        1211, 1088,  560,  730,  547,  737,  759,   65, 1154,  721,  364,\n",
              "         240,  938,  947], dtype=int32),\n",
              " array([1.        , 0.38446984, 0.3698668 , 0.34087545, 0.33351216,\n",
              "        0.33311972, 0.33014095, 0.32968467, 0.31722215, 0.31714755,\n",
              "        0.31429416, 0.31390694, 0.31160796, 0.3094656 , 0.30645514,\n",
              "        0.3062099 , 0.30263036, 0.2996396 , 0.29792723, 0.29286602,\n",
              "        0.29203203, 0.28862447, 0.28184587, 0.2803748 , 0.27816805],\n",
              "       dtype=float32))"
            ]
          },
          "metadata": {},
          "execution_count": 36
        }
      ]
    },
    {
      "cell_type": "code",
      "source": [
        "similar_users = ALS.similar_users(user_id,n_similar)\n",
        "similar_users"
      ],
      "metadata": {
        "colab": {
          "base_uri": "https://localhost:8080/"
        },
        "id": "AwdVM1Yms65I",
        "outputId": "b24b2a84-d0d4-4313-f3da-255f8b287415"
      },
      "execution_count": 37,
      "outputs": [
        {
          "output_type": "execute_result",
          "data": {
            "text/plain": [
              "(array([ 50, 527, 410, 830, 236, 113, 631, 866, 321, 699, 747, 351, 690,\n",
              "        182, 114, 640,  76, 420, 775,  41, 325, 896, 214, 123, 574],\n",
              "       dtype=int32),\n",
              " array([1.        , 0.37437162, 0.3623691 , 0.33993867, 0.3313491 ,\n",
              "        0.30783242, 0.307196  , 0.30698937, 0.3021449 , 0.29240105,\n",
              "        0.29128125, 0.28719154, 0.28590462, 0.28304356, 0.2672836 ,\n",
              "        0.2649793 , 0.26148582, 0.25997263, 0.2552198 , 0.2543921 ,\n",
              "        0.2510103 , 0.24957223, 0.24917603, 0.24885419, 0.24632414],\n",
              "       dtype=float32))"
            ]
          },
          "metadata": {},
          "execution_count": 37
        }
      ]
    },
    {
      "cell_type": "markdown",
      "source": [
        "### 추천 시스템 평가하기\n",
        "  - 유저마다 예측 평점이 높은 아이템이 실제로 본 영화인지 확인\n",
        "  - ROC커브 밑에 차지하는 면적(AUC)이 넓을수록 추천할 아이템과 실제로 구매한 아이템이 비슷함\n",
        "  [als](https://medium.com/radon-dev/als-implicit-collaborative-filtering-5ed653ba39fe)"
      ],
      "metadata": {
        "id": "OFxkN1eLX1yQ"
      }
    },
    {
      "cell_type": "code",
      "source": [
        "from sklearn import metrics\n",
        "\n",
        "def auc_score (test, predictions):\n",
        "    '''\n",
        "    fpr, tpr를 이용해서 AUC를 계산하는 함수\n",
        "    '''\n",
        "    fpr, tpr, thresholds = metrics.roc_curve(test, predictions)\n",
        "    return metrics.auc(fpr,tpr)"
      ],
      "metadata": {
        "id": "meKX4WQAXh4X"
      },
      "execution_count": 23,
      "outputs": []
    },
    {
      "cell_type": "code",
      "source": [
        "def calc_mean_auc(training_set, altered_users, predictions, test_set):\n",
        "    '''\n",
        "    가려진 정보가 있는 유저마다 AUC 평균을 구하는 함수\n",
        "    ----------------------------------------\n",
        "    input\n",
        "    1. training_set: make_train 함수에서 만들어진 훈련 데이터 (일정 비율로 아이템 구매량이 0으로 가려진 데이터)\n",
        "    2. prediction: implicit MF에서 나온 유저/아이템 별로 나온 예측 평점 행렬\n",
        "    3. altered_users: make_train 함수에서 아이템 구매량이 0으로 가려진 유저\n",
        "    4. test_set: make_train함수에서 만든 테스트 데이터\n",
        "    ----------------------------------------\n",
        "    반환\n",
        "    추천 시스템 유저의 평균 auc\n",
        "    인기아이템 기반 유저 평균 auc\n",
        "    '''\n",
        "    # 리스트 초기화\n",
        "    store_auc = []\n",
        "    popularity_auc = []\n",
        "    \n",
        "    pop_items = np.array(test_set.sum(axis = 0)).reshape(-1) # 모든 유저의 아이템별 구매횟수 합\n",
        "    item_vecs = predictions[1] # 아이템 latent 벡터\n",
        "    \n",
        "    for user in altered_users:\n",
        "        training_row = training_set[user,:].toarray().reshape(-1) # 유저의 훈련데이터\n",
        "        zero_inds = np.where(training_row == 0) # 가려진 아이템 Index\n",
        "        \n",
        "        # 가려진 아이템에 대한 예측\n",
        "        user_vec = predictions[0][user,:]\n",
        "        pred = user_vec.dot(item_vecs).toarray()[0,zero_inds].reshape(-1)\n",
        "        \n",
        "        # 가려진 아이템에 대한 실제값\n",
        "        actual = test_set[user,:].toarray()[0,zero_inds].reshape(-1) \n",
        "        \n",
        "        # 가려진 아이템에 대한 popularity (구매횟수 합)\n",
        "        pop = pop_items[zero_inds]\n",
        "        \n",
        "        # AUC 계산 \n",
        "        store_auc.append(auc_score(actual, pred))\n",
        "        popularity_auc.append(auc_score(actual,pop))\n",
        "    \n",
        "    return float('%.3f'%np.mean(store_auc)), float('%.3f'%np.mean(popularity_auc))  "
      ],
      "metadata": {
        "id": "0NQbWSmtYS2_"
      },
      "execution_count": 24,
      "outputs": []
    },
    {
      "cell_type": "code",
      "source": [
        "calc_mean_auc(product_train,product_users_altered,predictions,product_test)"
      ],
      "metadata": {
        "colab": {
          "base_uri": "https://localhost:8080/"
        },
        "id": "c9ditzKlYwIZ",
        "outputId": "fe496cfb-acb2-42ae-885c-501c02f72112"
      },
      "execution_count": 25,
      "outputs": [
        {
          "output_type": "execute_result",
          "data": {
            "text/plain": [
              "(0.909, 0.853)"
            ]
          },
          "metadata": {},
          "execution_count": 25
        }
      ]
    },
    {
      "cell_type": "markdown",
      "source": [
        "- 결과를 확인해보니 추천시스템이 가장 인기있는 아이템 기반 알고리즘보다 더 나은 성능을 낸다."
      ],
      "metadata": {
        "id": "Y2I3Qdu2aA4m"
      }
    },
    {
      "cell_type": "markdown",
      "source": [
        "### als 추천하기"
      ],
      "metadata": {
        "id": "N4_Dq4GwaqnP"
      }
    },
    {
      "cell_type": "code",
      "source": [
        "matrix = df_c.pivot_table('rating', index='user_id', columns='movie_id').fillna(0)\n",
        "matrix"
      ],
      "metadata": {
        "colab": {
          "base_uri": "https://localhost:8080/",
          "height": 519
        },
        "id": "mDqAXprice-p",
        "outputId": "b4c20d98-a478-4fc5-aed9-5bbe63d3d5bd"
      },
      "execution_count": 41,
      "outputs": [
        {
          "output_type": "execute_result",
          "data": {
            "text/plain": [
              "movie_id  1     2     3     4     5     6     7     8     9     10    ...  \\\n",
              "user_id                                                               ...   \n",
              "1          5.0   3.0   4.0   3.0   3.0   5.0   4.0   1.0   5.0   3.0  ...   \n",
              "2          4.0   0.0   0.0   0.0   0.0   0.0   0.0   0.0   0.0   2.0  ...   \n",
              "3          0.0   0.0   0.0   0.0   0.0   0.0   0.0   0.0   0.0   0.0  ...   \n",
              "4          0.0   0.0   0.0   0.0   0.0   0.0   0.0   0.0   0.0   0.0  ...   \n",
              "5          4.0   3.0   0.0   0.0   0.0   0.0   0.0   0.0   0.0   0.0  ...   \n",
              "...        ...   ...   ...   ...   ...   ...   ...   ...   ...   ...  ...   \n",
              "939        0.0   0.0   0.0   0.0   0.0   0.0   0.0   0.0   5.0   0.0  ...   \n",
              "940        0.0   0.0   0.0   2.0   0.0   0.0   4.0   5.0   3.0   0.0  ...   \n",
              "941        5.0   0.0   0.0   0.0   0.0   0.0   4.0   0.0   0.0   0.0  ...   \n",
              "942        0.0   0.0   0.0   0.0   0.0   0.0   0.0   0.0   0.0   0.0  ...   \n",
              "943        0.0   5.0   0.0   0.0   0.0   0.0   0.0   0.0   3.0   0.0  ...   \n",
              "\n",
              "movie_id  1673  1674  1675  1676  1677  1678  1679  1680  1681  1682  \n",
              "user_id                                                               \n",
              "1          0.0   0.0   0.0   0.0   0.0   0.0   0.0   0.0   0.0   0.0  \n",
              "2          0.0   0.0   0.0   0.0   0.0   0.0   0.0   0.0   0.0   0.0  \n",
              "3          0.0   0.0   0.0   0.0   0.0   0.0   0.0   0.0   0.0   0.0  \n",
              "4          0.0   0.0   0.0   0.0   0.0   0.0   0.0   0.0   0.0   0.0  \n",
              "5          0.0   0.0   0.0   0.0   0.0   0.0   0.0   0.0   0.0   0.0  \n",
              "...        ...   ...   ...   ...   ...   ...   ...   ...   ...   ...  \n",
              "939        0.0   0.0   0.0   0.0   0.0   0.0   0.0   0.0   0.0   0.0  \n",
              "940        0.0   0.0   0.0   0.0   0.0   0.0   0.0   0.0   0.0   0.0  \n",
              "941        0.0   0.0   0.0   0.0   0.0   0.0   0.0   0.0   0.0   0.0  \n",
              "942        0.0   0.0   0.0   0.0   0.0   0.0   0.0   0.0   0.0   0.0  \n",
              "943        0.0   0.0   0.0   0.0   0.0   0.0   0.0   0.0   0.0   0.0  \n",
              "\n",
              "[943 rows x 1681 columns]"
            ],
            "text/html": [
              "\n",
              "  <div id=\"df-56196751-2460-4959-a6fc-198e76c532ce\">\n",
              "    <div class=\"colab-df-container\">\n",
              "      <div>\n",
              "<style scoped>\n",
              "    .dataframe tbody tr th:only-of-type {\n",
              "        vertical-align: middle;\n",
              "    }\n",
              "\n",
              "    .dataframe tbody tr th {\n",
              "        vertical-align: top;\n",
              "    }\n",
              "\n",
              "    .dataframe thead th {\n",
              "        text-align: right;\n",
              "    }\n",
              "</style>\n",
              "<table border=\"1\" class=\"dataframe\">\n",
              "  <thead>\n",
              "    <tr style=\"text-align: right;\">\n",
              "      <th>movie_id</th>\n",
              "      <th>1</th>\n",
              "      <th>2</th>\n",
              "      <th>3</th>\n",
              "      <th>4</th>\n",
              "      <th>5</th>\n",
              "      <th>6</th>\n",
              "      <th>7</th>\n",
              "      <th>8</th>\n",
              "      <th>9</th>\n",
              "      <th>10</th>\n",
              "      <th>...</th>\n",
              "      <th>1673</th>\n",
              "      <th>1674</th>\n",
              "      <th>1675</th>\n",
              "      <th>1676</th>\n",
              "      <th>1677</th>\n",
              "      <th>1678</th>\n",
              "      <th>1679</th>\n",
              "      <th>1680</th>\n",
              "      <th>1681</th>\n",
              "      <th>1682</th>\n",
              "    </tr>\n",
              "    <tr>\n",
              "      <th>user_id</th>\n",
              "      <th></th>\n",
              "      <th></th>\n",
              "      <th></th>\n",
              "      <th></th>\n",
              "      <th></th>\n",
              "      <th></th>\n",
              "      <th></th>\n",
              "      <th></th>\n",
              "      <th></th>\n",
              "      <th></th>\n",
              "      <th></th>\n",
              "      <th></th>\n",
              "      <th></th>\n",
              "      <th></th>\n",
              "      <th></th>\n",
              "      <th></th>\n",
              "      <th></th>\n",
              "      <th></th>\n",
              "      <th></th>\n",
              "      <th></th>\n",
              "      <th></th>\n",
              "    </tr>\n",
              "  </thead>\n",
              "  <tbody>\n",
              "    <tr>\n",
              "      <th>1</th>\n",
              "      <td>5.0</td>\n",
              "      <td>3.0</td>\n",
              "      <td>4.0</td>\n",
              "      <td>3.0</td>\n",
              "      <td>3.0</td>\n",
              "      <td>5.0</td>\n",
              "      <td>4.0</td>\n",
              "      <td>1.0</td>\n",
              "      <td>5.0</td>\n",
              "      <td>3.0</td>\n",
              "      <td>...</td>\n",
              "      <td>0.0</td>\n",
              "      <td>0.0</td>\n",
              "      <td>0.0</td>\n",
              "      <td>0.0</td>\n",
              "      <td>0.0</td>\n",
              "      <td>0.0</td>\n",
              "      <td>0.0</td>\n",
              "      <td>0.0</td>\n",
              "      <td>0.0</td>\n",
              "      <td>0.0</td>\n",
              "    </tr>\n",
              "    <tr>\n",
              "      <th>2</th>\n",
              "      <td>4.0</td>\n",
              "      <td>0.0</td>\n",
              "      <td>0.0</td>\n",
              "      <td>0.0</td>\n",
              "      <td>0.0</td>\n",
              "      <td>0.0</td>\n",
              "      <td>0.0</td>\n",
              "      <td>0.0</td>\n",
              "      <td>0.0</td>\n",
              "      <td>2.0</td>\n",
              "      <td>...</td>\n",
              "      <td>0.0</td>\n",
              "      <td>0.0</td>\n",
              "      <td>0.0</td>\n",
              "      <td>0.0</td>\n",
              "      <td>0.0</td>\n",
              "      <td>0.0</td>\n",
              "      <td>0.0</td>\n",
              "      <td>0.0</td>\n",
              "      <td>0.0</td>\n",
              "      <td>0.0</td>\n",
              "    </tr>\n",
              "    <tr>\n",
              "      <th>3</th>\n",
              "      <td>0.0</td>\n",
              "      <td>0.0</td>\n",
              "      <td>0.0</td>\n",
              "      <td>0.0</td>\n",
              "      <td>0.0</td>\n",
              "      <td>0.0</td>\n",
              "      <td>0.0</td>\n",
              "      <td>0.0</td>\n",
              "      <td>0.0</td>\n",
              "      <td>0.0</td>\n",
              "      <td>...</td>\n",
              "      <td>0.0</td>\n",
              "      <td>0.0</td>\n",
              "      <td>0.0</td>\n",
              "      <td>0.0</td>\n",
              "      <td>0.0</td>\n",
              "      <td>0.0</td>\n",
              "      <td>0.0</td>\n",
              "      <td>0.0</td>\n",
              "      <td>0.0</td>\n",
              "      <td>0.0</td>\n",
              "    </tr>\n",
              "    <tr>\n",
              "      <th>4</th>\n",
              "      <td>0.0</td>\n",
              "      <td>0.0</td>\n",
              "      <td>0.0</td>\n",
              "      <td>0.0</td>\n",
              "      <td>0.0</td>\n",
              "      <td>0.0</td>\n",
              "      <td>0.0</td>\n",
              "      <td>0.0</td>\n",
              "      <td>0.0</td>\n",
              "      <td>0.0</td>\n",
              "      <td>...</td>\n",
              "      <td>0.0</td>\n",
              "      <td>0.0</td>\n",
              "      <td>0.0</td>\n",
              "      <td>0.0</td>\n",
              "      <td>0.0</td>\n",
              "      <td>0.0</td>\n",
              "      <td>0.0</td>\n",
              "      <td>0.0</td>\n",
              "      <td>0.0</td>\n",
              "      <td>0.0</td>\n",
              "    </tr>\n",
              "    <tr>\n",
              "      <th>5</th>\n",
              "      <td>4.0</td>\n",
              "      <td>3.0</td>\n",
              "      <td>0.0</td>\n",
              "      <td>0.0</td>\n",
              "      <td>0.0</td>\n",
              "      <td>0.0</td>\n",
              "      <td>0.0</td>\n",
              "      <td>0.0</td>\n",
              "      <td>0.0</td>\n",
              "      <td>0.0</td>\n",
              "      <td>...</td>\n",
              "      <td>0.0</td>\n",
              "      <td>0.0</td>\n",
              "      <td>0.0</td>\n",
              "      <td>0.0</td>\n",
              "      <td>0.0</td>\n",
              "      <td>0.0</td>\n",
              "      <td>0.0</td>\n",
              "      <td>0.0</td>\n",
              "      <td>0.0</td>\n",
              "      <td>0.0</td>\n",
              "    </tr>\n",
              "    <tr>\n",
              "      <th>...</th>\n",
              "      <td>...</td>\n",
              "      <td>...</td>\n",
              "      <td>...</td>\n",
              "      <td>...</td>\n",
              "      <td>...</td>\n",
              "      <td>...</td>\n",
              "      <td>...</td>\n",
              "      <td>...</td>\n",
              "      <td>...</td>\n",
              "      <td>...</td>\n",
              "      <td>...</td>\n",
              "      <td>...</td>\n",
              "      <td>...</td>\n",
              "      <td>...</td>\n",
              "      <td>...</td>\n",
              "      <td>...</td>\n",
              "      <td>...</td>\n",
              "      <td>...</td>\n",
              "      <td>...</td>\n",
              "      <td>...</td>\n",
              "      <td>...</td>\n",
              "    </tr>\n",
              "    <tr>\n",
              "      <th>939</th>\n",
              "      <td>0.0</td>\n",
              "      <td>0.0</td>\n",
              "      <td>0.0</td>\n",
              "      <td>0.0</td>\n",
              "      <td>0.0</td>\n",
              "      <td>0.0</td>\n",
              "      <td>0.0</td>\n",
              "      <td>0.0</td>\n",
              "      <td>5.0</td>\n",
              "      <td>0.0</td>\n",
              "      <td>...</td>\n",
              "      <td>0.0</td>\n",
              "      <td>0.0</td>\n",
              "      <td>0.0</td>\n",
              "      <td>0.0</td>\n",
              "      <td>0.0</td>\n",
              "      <td>0.0</td>\n",
              "      <td>0.0</td>\n",
              "      <td>0.0</td>\n",
              "      <td>0.0</td>\n",
              "      <td>0.0</td>\n",
              "    </tr>\n",
              "    <tr>\n",
              "      <th>940</th>\n",
              "      <td>0.0</td>\n",
              "      <td>0.0</td>\n",
              "      <td>0.0</td>\n",
              "      <td>2.0</td>\n",
              "      <td>0.0</td>\n",
              "      <td>0.0</td>\n",
              "      <td>4.0</td>\n",
              "      <td>5.0</td>\n",
              "      <td>3.0</td>\n",
              "      <td>0.0</td>\n",
              "      <td>...</td>\n",
              "      <td>0.0</td>\n",
              "      <td>0.0</td>\n",
              "      <td>0.0</td>\n",
              "      <td>0.0</td>\n",
              "      <td>0.0</td>\n",
              "      <td>0.0</td>\n",
              "      <td>0.0</td>\n",
              "      <td>0.0</td>\n",
              "      <td>0.0</td>\n",
              "      <td>0.0</td>\n",
              "    </tr>\n",
              "    <tr>\n",
              "      <th>941</th>\n",
              "      <td>5.0</td>\n",
              "      <td>0.0</td>\n",
              "      <td>0.0</td>\n",
              "      <td>0.0</td>\n",
              "      <td>0.0</td>\n",
              "      <td>0.0</td>\n",
              "      <td>4.0</td>\n",
              "      <td>0.0</td>\n",
              "      <td>0.0</td>\n",
              "      <td>0.0</td>\n",
              "      <td>...</td>\n",
              "      <td>0.0</td>\n",
              "      <td>0.0</td>\n",
              "      <td>0.0</td>\n",
              "      <td>0.0</td>\n",
              "      <td>0.0</td>\n",
              "      <td>0.0</td>\n",
              "      <td>0.0</td>\n",
              "      <td>0.0</td>\n",
              "      <td>0.0</td>\n",
              "      <td>0.0</td>\n",
              "    </tr>\n",
              "    <tr>\n",
              "      <th>942</th>\n",
              "      <td>0.0</td>\n",
              "      <td>0.0</td>\n",
              "      <td>0.0</td>\n",
              "      <td>0.0</td>\n",
              "      <td>0.0</td>\n",
              "      <td>0.0</td>\n",
              "      <td>0.0</td>\n",
              "      <td>0.0</td>\n",
              "      <td>0.0</td>\n",
              "      <td>0.0</td>\n",
              "      <td>...</td>\n",
              "      <td>0.0</td>\n",
              "      <td>0.0</td>\n",
              "      <td>0.0</td>\n",
              "      <td>0.0</td>\n",
              "      <td>0.0</td>\n",
              "      <td>0.0</td>\n",
              "      <td>0.0</td>\n",
              "      <td>0.0</td>\n",
              "      <td>0.0</td>\n",
              "      <td>0.0</td>\n",
              "    </tr>\n",
              "    <tr>\n",
              "      <th>943</th>\n",
              "      <td>0.0</td>\n",
              "      <td>5.0</td>\n",
              "      <td>0.0</td>\n",
              "      <td>0.0</td>\n",
              "      <td>0.0</td>\n",
              "      <td>0.0</td>\n",
              "      <td>0.0</td>\n",
              "      <td>0.0</td>\n",
              "      <td>3.0</td>\n",
              "      <td>0.0</td>\n",
              "      <td>...</td>\n",
              "      <td>0.0</td>\n",
              "      <td>0.0</td>\n",
              "      <td>0.0</td>\n",
              "      <td>0.0</td>\n",
              "      <td>0.0</td>\n",
              "      <td>0.0</td>\n",
              "      <td>0.0</td>\n",
              "      <td>0.0</td>\n",
              "      <td>0.0</td>\n",
              "      <td>0.0</td>\n",
              "    </tr>\n",
              "  </tbody>\n",
              "</table>\n",
              "<p>943 rows × 1681 columns</p>\n",
              "</div>\n",
              "      <button class=\"colab-df-convert\" onclick=\"convertToInteractive('df-56196751-2460-4959-a6fc-198e76c532ce')\"\n",
              "              title=\"Convert this dataframe to an interactive table.\"\n",
              "              style=\"display:none;\">\n",
              "        \n",
              "  <svg xmlns=\"http://www.w3.org/2000/svg\" height=\"24px\"viewBox=\"0 0 24 24\"\n",
              "       width=\"24px\">\n",
              "    <path d=\"M0 0h24v24H0V0z\" fill=\"none\"/>\n",
              "    <path d=\"M18.56 5.44l.94 2.06.94-2.06 2.06-.94-2.06-.94-.94-2.06-.94 2.06-2.06.94zm-11 1L8.5 8.5l.94-2.06 2.06-.94-2.06-.94L8.5 2.5l-.94 2.06-2.06.94zm10 10l.94 2.06.94-2.06 2.06-.94-2.06-.94-.94-2.06-.94 2.06-2.06.94z\"/><path d=\"M17.41 7.96l-1.37-1.37c-.4-.4-.92-.59-1.43-.59-.52 0-1.04.2-1.43.59L10.3 9.45l-7.72 7.72c-.78.78-.78 2.05 0 2.83L4 21.41c.39.39.9.59 1.41.59.51 0 1.02-.2 1.41-.59l7.78-7.78 2.81-2.81c.8-.78.8-2.07 0-2.86zM5.41 20L4 18.59l7.72-7.72 1.47 1.35L5.41 20z\"/>\n",
              "  </svg>\n",
              "      </button>\n",
              "      \n",
              "  <style>\n",
              "    .colab-df-container {\n",
              "      display:flex;\n",
              "      flex-wrap:wrap;\n",
              "      gap: 12px;\n",
              "    }\n",
              "\n",
              "    .colab-df-convert {\n",
              "      background-color: #E8F0FE;\n",
              "      border: none;\n",
              "      border-radius: 50%;\n",
              "      cursor: pointer;\n",
              "      display: none;\n",
              "      fill: #1967D2;\n",
              "      height: 32px;\n",
              "      padding: 0 0 0 0;\n",
              "      width: 32px;\n",
              "    }\n",
              "\n",
              "    .colab-df-convert:hover {\n",
              "      background-color: #E2EBFA;\n",
              "      box-shadow: 0px 1px 2px rgba(60, 64, 67, 0.3), 0px 1px 3px 1px rgba(60, 64, 67, 0.15);\n",
              "      fill: #174EA6;\n",
              "    }\n",
              "\n",
              "    [theme=dark] .colab-df-convert {\n",
              "      background-color: #3B4455;\n",
              "      fill: #D2E3FC;\n",
              "    }\n",
              "\n",
              "    [theme=dark] .colab-df-convert:hover {\n",
              "      background-color: #434B5C;\n",
              "      box-shadow: 0px 1px 3px 1px rgba(0, 0, 0, 0.15);\n",
              "      filter: drop-shadow(0px 1px 2px rgba(0, 0, 0, 0.3));\n",
              "      fill: #FFFFFF;\n",
              "    }\n",
              "  </style>\n",
              "\n",
              "      <script>\n",
              "        const buttonEl =\n",
              "          document.querySelector('#df-56196751-2460-4959-a6fc-198e76c532ce button.colab-df-convert');\n",
              "        buttonEl.style.display =\n",
              "          google.colab.kernel.accessAllowed ? 'block' : 'none';\n",
              "\n",
              "        async function convertToInteractive(key) {\n",
              "          const element = document.querySelector('#df-56196751-2460-4959-a6fc-198e76c532ce');\n",
              "          const dataTable =\n",
              "            await google.colab.kernel.invokeFunction('convertToInteractive',\n",
              "                                                     [key], {});\n",
              "          if (!dataTable) return;\n",
              "\n",
              "          const docLinkHtml = 'Like what you see? Visit the ' +\n",
              "            '<a target=\"_blank\" href=https://colab.research.google.com/notebooks/data_table.ipynb>data table notebook</a>'\n",
              "            + ' to learn more about interactive tables.';\n",
              "          element.innerHTML = '';\n",
              "          dataTable['output_type'] = 'display_data';\n",
              "          await google.colab.output.renderOutput(dataTable, element);\n",
              "          const docLink = document.createElement('div');\n",
              "          docLink.innerHTML = docLinkHtml;\n",
              "          element.appendChild(docLink);\n",
              "        }\n",
              "      </script>\n",
              "    </div>\n",
              "  </div>\n",
              "  "
            ]
          },
          "metadata": {},
          "execution_count": 41
        }
      ]
    },
    {
      "cell_type": "markdown",
      "source": [
        "#### 추천<br>\n",
        "\n",
        "[참고](https://assaeunji.github.io/machine%20learning/2020-11-29-implicitfeedback/)"
      ],
      "metadata": {
        "id": "Yux5lRucsHjy"
      }
    },
    {
      "cell_type": "code",
      "source": [
        "from sklearn.preprocessing import MinMaxScaler"
      ],
      "metadata": {
        "id": "pKS7BFAbteCz"
      },
      "execution_count": 38,
      "outputs": []
    },
    {
      "cell_type": "code",
      "source": [
        "\n",
        "def recommend(user_id,mf_train,user_vecs,item_vecs,num_items=25):\n",
        "  # 유저위치\n",
        "  user_ind = np.where(matrix.index==user_id)[0][0]\n",
        "  pref_vec = mf_train[user_ind,:].toarray()                   # 훈련 데이터의 실제 평점\n",
        "  pref_vec = pref_vec.reshape(-1)+1                           # 1을 더해 안본것들을 1로 만들고\n",
        "  pref_vec[pref_vec > 1] = 0                                  # 본 것들을 모두 0으로 만듦으로써 곱해질때 본 것들이 안나오게!\n",
        "  rec_vector = user_vecs[user_ind,:].dot(item_vecs.T)         # 추천 시스템에 기반한 예측 평점\n",
        "\n",
        "\n",
        "  # Min-Max Scaling\n",
        "  min_max = MinMaxScaler()\n",
        "  rec_vector_scaled = min_max.fit_transform(rec_vector.reshape(-1,1))[:,0] \n",
        "  recommend_vector = pref_vec*rec_vector_scaled  # 구매하지 않은 아이템에 대해서만 예측 평점이 남도록\n",
        "\n",
        "  product_idx = np.argsort(recommend_vector)[::-1][:num_items+1] # num_items만큼 내림차순으로 평점 정렬한 index\n",
        "    \n",
        "\n",
        "  movie_list=df_c[['movie_id','movie_title']].drop_duplicates()\n",
        "\n",
        "  recommend = movie_list[movie_list['movie_id'].isin(product_idx+1)].reset_index(drop=True)\n",
        "\n",
        "  return recommend\n"
      ],
      "metadata": {
        "id": "qvqi5Ixys4SO"
      },
      "execution_count": 47,
      "outputs": []
    },
    {
      "cell_type": "code",
      "source": [
        "recommend(12,product_train,user_vecs,item_vecs)"
      ],
      "metadata": {
        "colab": {
          "base_uri": "https://localhost:8080/",
          "height": 864
        },
        "id": "akXQiwLEuMYU",
        "outputId": "c68dc1ae-5f63-4d8b-fca9-4e9e6c8a7d8f"
      },
      "execution_count": 48,
      "outputs": [
        {
          "output_type": "execute_result",
          "data": {
            "text/plain": [
              "    movie_id                                      movie_title\n",
              "0         70               Four Weddings and a Funeral (1994)\n",
              "1        153                      Fish Called Wanda, A (1988)\n",
              "2        173                       Princess Bride, The (1987)\n",
              "3         71                            Lion King, The (1994)\n",
              "4        117                                 Rock, The (1996)\n",
              "5        100                                     Fargo (1996)\n",
              "6         98                 Silence of the Lambs, The (1991)\n",
              "7        356                               Client, The (1994)\n",
              "8         77                                 Firm, The (1993)\n",
              "9        195                           Terminator, The (1984)\n",
              "10       181                        Return of the Jedi (1983)\n",
              "11       144                                  Die Hard (1988)\n",
              "12        97                        Dances with Wolves (1990)\n",
              "13       179                       Clockwork Orange, A (1971)\n",
              "14        22                                Braveheart (1995)\n",
              "15       135                     2001: A Space Odyssey (1968)\n",
              "16       581                                Kalifornia (1993)\n",
              "17       215                           Field of Dreams (1989)\n",
              "18       197                             Graduate, The (1967)\n",
              "19       317                 In the Name of the Father (1993)\n",
              "20       188                         Full Metal Jacket (1987)\n",
              "21       193                          Right Stuff, The (1983)\n",
              "22       650  Seventh Seal, The (Sjunde inseglet, Det) (1957)\n",
              "23       312   Midnight in the Garden of Good and Evil (1997)\n",
              "24       450           Star Trek V: The Final Frontier (1989)\n",
              "25       434                          Forbidden Planet (1956)"
            ],
            "text/html": [
              "\n",
              "  <div id=\"df-8a872a7c-caa0-46bf-b0a5-cb200d5fddba\">\n",
              "    <div class=\"colab-df-container\">\n",
              "      <div>\n",
              "<style scoped>\n",
              "    .dataframe tbody tr th:only-of-type {\n",
              "        vertical-align: middle;\n",
              "    }\n",
              "\n",
              "    .dataframe tbody tr th {\n",
              "        vertical-align: top;\n",
              "    }\n",
              "\n",
              "    .dataframe thead th {\n",
              "        text-align: right;\n",
              "    }\n",
              "</style>\n",
              "<table border=\"1\" class=\"dataframe\">\n",
              "  <thead>\n",
              "    <tr style=\"text-align: right;\">\n",
              "      <th></th>\n",
              "      <th>movie_id</th>\n",
              "      <th>movie_title</th>\n",
              "    </tr>\n",
              "  </thead>\n",
              "  <tbody>\n",
              "    <tr>\n",
              "      <th>0</th>\n",
              "      <td>70</td>\n",
              "      <td>Four Weddings and a Funeral (1994)</td>\n",
              "    </tr>\n",
              "    <tr>\n",
              "      <th>1</th>\n",
              "      <td>153</td>\n",
              "      <td>Fish Called Wanda, A (1988)</td>\n",
              "    </tr>\n",
              "    <tr>\n",
              "      <th>2</th>\n",
              "      <td>173</td>\n",
              "      <td>Princess Bride, The (1987)</td>\n",
              "    </tr>\n",
              "    <tr>\n",
              "      <th>3</th>\n",
              "      <td>71</td>\n",
              "      <td>Lion King, The (1994)</td>\n",
              "    </tr>\n",
              "    <tr>\n",
              "      <th>4</th>\n",
              "      <td>117</td>\n",
              "      <td>Rock, The (1996)</td>\n",
              "    </tr>\n",
              "    <tr>\n",
              "      <th>5</th>\n",
              "      <td>100</td>\n",
              "      <td>Fargo (1996)</td>\n",
              "    </tr>\n",
              "    <tr>\n",
              "      <th>6</th>\n",
              "      <td>98</td>\n",
              "      <td>Silence of the Lambs, The (1991)</td>\n",
              "    </tr>\n",
              "    <tr>\n",
              "      <th>7</th>\n",
              "      <td>356</td>\n",
              "      <td>Client, The (1994)</td>\n",
              "    </tr>\n",
              "    <tr>\n",
              "      <th>8</th>\n",
              "      <td>77</td>\n",
              "      <td>Firm, The (1993)</td>\n",
              "    </tr>\n",
              "    <tr>\n",
              "      <th>9</th>\n",
              "      <td>195</td>\n",
              "      <td>Terminator, The (1984)</td>\n",
              "    </tr>\n",
              "    <tr>\n",
              "      <th>10</th>\n",
              "      <td>181</td>\n",
              "      <td>Return of the Jedi (1983)</td>\n",
              "    </tr>\n",
              "    <tr>\n",
              "      <th>11</th>\n",
              "      <td>144</td>\n",
              "      <td>Die Hard (1988)</td>\n",
              "    </tr>\n",
              "    <tr>\n",
              "      <th>12</th>\n",
              "      <td>97</td>\n",
              "      <td>Dances with Wolves (1990)</td>\n",
              "    </tr>\n",
              "    <tr>\n",
              "      <th>13</th>\n",
              "      <td>179</td>\n",
              "      <td>Clockwork Orange, A (1971)</td>\n",
              "    </tr>\n",
              "    <tr>\n",
              "      <th>14</th>\n",
              "      <td>22</td>\n",
              "      <td>Braveheart (1995)</td>\n",
              "    </tr>\n",
              "    <tr>\n",
              "      <th>15</th>\n",
              "      <td>135</td>\n",
              "      <td>2001: A Space Odyssey (1968)</td>\n",
              "    </tr>\n",
              "    <tr>\n",
              "      <th>16</th>\n",
              "      <td>581</td>\n",
              "      <td>Kalifornia (1993)</td>\n",
              "    </tr>\n",
              "    <tr>\n",
              "      <th>17</th>\n",
              "      <td>215</td>\n",
              "      <td>Field of Dreams (1989)</td>\n",
              "    </tr>\n",
              "    <tr>\n",
              "      <th>18</th>\n",
              "      <td>197</td>\n",
              "      <td>Graduate, The (1967)</td>\n",
              "    </tr>\n",
              "    <tr>\n",
              "      <th>19</th>\n",
              "      <td>317</td>\n",
              "      <td>In the Name of the Father (1993)</td>\n",
              "    </tr>\n",
              "    <tr>\n",
              "      <th>20</th>\n",
              "      <td>188</td>\n",
              "      <td>Full Metal Jacket (1987)</td>\n",
              "    </tr>\n",
              "    <tr>\n",
              "      <th>21</th>\n",
              "      <td>193</td>\n",
              "      <td>Right Stuff, The (1983)</td>\n",
              "    </tr>\n",
              "    <tr>\n",
              "      <th>22</th>\n",
              "      <td>650</td>\n",
              "      <td>Seventh Seal, The (Sjunde inseglet, Det) (1957)</td>\n",
              "    </tr>\n",
              "    <tr>\n",
              "      <th>23</th>\n",
              "      <td>312</td>\n",
              "      <td>Midnight in the Garden of Good and Evil (1997)</td>\n",
              "    </tr>\n",
              "    <tr>\n",
              "      <th>24</th>\n",
              "      <td>450</td>\n",
              "      <td>Star Trek V: The Final Frontier (1989)</td>\n",
              "    </tr>\n",
              "    <tr>\n",
              "      <th>25</th>\n",
              "      <td>434</td>\n",
              "      <td>Forbidden Planet (1956)</td>\n",
              "    </tr>\n",
              "  </tbody>\n",
              "</table>\n",
              "</div>\n",
              "      <button class=\"colab-df-convert\" onclick=\"convertToInteractive('df-8a872a7c-caa0-46bf-b0a5-cb200d5fddba')\"\n",
              "              title=\"Convert this dataframe to an interactive table.\"\n",
              "              style=\"display:none;\">\n",
              "        \n",
              "  <svg xmlns=\"http://www.w3.org/2000/svg\" height=\"24px\"viewBox=\"0 0 24 24\"\n",
              "       width=\"24px\">\n",
              "    <path d=\"M0 0h24v24H0V0z\" fill=\"none\"/>\n",
              "    <path d=\"M18.56 5.44l.94 2.06.94-2.06 2.06-.94-2.06-.94-.94-2.06-.94 2.06-2.06.94zm-11 1L8.5 8.5l.94-2.06 2.06-.94-2.06-.94L8.5 2.5l-.94 2.06-2.06.94zm10 10l.94 2.06.94-2.06 2.06-.94-2.06-.94-.94-2.06-.94 2.06-2.06.94z\"/><path d=\"M17.41 7.96l-1.37-1.37c-.4-.4-.92-.59-1.43-.59-.52 0-1.04.2-1.43.59L10.3 9.45l-7.72 7.72c-.78.78-.78 2.05 0 2.83L4 21.41c.39.39.9.59 1.41.59.51 0 1.02-.2 1.41-.59l7.78-7.78 2.81-2.81c.8-.78.8-2.07 0-2.86zM5.41 20L4 18.59l7.72-7.72 1.47 1.35L5.41 20z\"/>\n",
              "  </svg>\n",
              "      </button>\n",
              "      \n",
              "  <style>\n",
              "    .colab-df-container {\n",
              "      display:flex;\n",
              "      flex-wrap:wrap;\n",
              "      gap: 12px;\n",
              "    }\n",
              "\n",
              "    .colab-df-convert {\n",
              "      background-color: #E8F0FE;\n",
              "      border: none;\n",
              "      border-radius: 50%;\n",
              "      cursor: pointer;\n",
              "      display: none;\n",
              "      fill: #1967D2;\n",
              "      height: 32px;\n",
              "      padding: 0 0 0 0;\n",
              "      width: 32px;\n",
              "    }\n",
              "\n",
              "    .colab-df-convert:hover {\n",
              "      background-color: #E2EBFA;\n",
              "      box-shadow: 0px 1px 2px rgba(60, 64, 67, 0.3), 0px 1px 3px 1px rgba(60, 64, 67, 0.15);\n",
              "      fill: #174EA6;\n",
              "    }\n",
              "\n",
              "    [theme=dark] .colab-df-convert {\n",
              "      background-color: #3B4455;\n",
              "      fill: #D2E3FC;\n",
              "    }\n",
              "\n",
              "    [theme=dark] .colab-df-convert:hover {\n",
              "      background-color: #434B5C;\n",
              "      box-shadow: 0px 1px 3px 1px rgba(0, 0, 0, 0.15);\n",
              "      filter: drop-shadow(0px 1px 2px rgba(0, 0, 0, 0.3));\n",
              "      fill: #FFFFFF;\n",
              "    }\n",
              "  </style>\n",
              "\n",
              "      <script>\n",
              "        const buttonEl =\n",
              "          document.querySelector('#df-8a872a7c-caa0-46bf-b0a5-cb200d5fddba button.colab-df-convert');\n",
              "        buttonEl.style.display =\n",
              "          google.colab.kernel.accessAllowed ? 'block' : 'none';\n",
              "\n",
              "        async function convertToInteractive(key) {\n",
              "          const element = document.querySelector('#df-8a872a7c-caa0-46bf-b0a5-cb200d5fddba');\n",
              "          const dataTable =\n",
              "            await google.colab.kernel.invokeFunction('convertToInteractive',\n",
              "                                                     [key], {});\n",
              "          if (!dataTable) return;\n",
              "\n",
              "          const docLinkHtml = 'Like what you see? Visit the ' +\n",
              "            '<a target=\"_blank\" href=https://colab.research.google.com/notebooks/data_table.ipynb>data table notebook</a>'\n",
              "            + ' to learn more about interactive tables.';\n",
              "          element.innerHTML = '';\n",
              "          dataTable['output_type'] = 'display_data';\n",
              "          await google.colab.output.renderOutput(dataTable, element);\n",
              "          const docLink = document.createElement('div');\n",
              "          docLink.innerHTML = docLinkHtml;\n",
              "          element.appendChild(docLink);\n",
              "        }\n",
              "      </script>\n",
              "    </div>\n",
              "  </div>\n",
              "  "
            ]
          },
          "metadata": {},
          "execution_count": 48
        }
      ]
    },
    {
      "cell_type": "markdown",
      "source": [
        "#### 성능평가(precision/recall@k) "
      ],
      "metadata": {
        "id": "IEsKBPBgdSxt"
      }
    },
    {
      "cell_type": "markdown",
      "source": [
        "##### 유저가 본 영화(top25)"
      ],
      "metadata": {
        "id": "hW9EdfPYsFbN"
      }
    },
    {
      "cell_type": "code",
      "source": [
        "# e 안나오게 하는 법\n",
        "import sys\n",
        "\n",
        "import numpy as np\n",
        "\n",
        "np.set_printoptions(threshold=sys.maxsize)"
      ],
      "metadata": {
        "id": "pYWiLtt8itLl"
      },
      "execution_count": null,
      "outputs": []
    },
    {
      "cell_type": "code",
      "source": [
        "def top_get_movie(user_id,matrix_p,item=25):\n",
        "  movie_list=df_c[['movie_id','movie_title']].drop_duplicates()\n",
        "\n",
        "  trans = matrix_p[matrix_p.index==user_id].T\n",
        "  trans.columns=['rating']\n",
        "\n",
        "  movie_ind=trans.sort_values(['rating']).tail(item).index.tolist()  \n",
        "  user_movie = movie_list[movie_list['movie_id'].isin(movie_ind)]\n",
        "  \n",
        "  return user_movie\n",
        "  "
      ],
      "metadata": {
        "id": "1cRuTZVAY-V6"
      },
      "execution_count": 54,
      "outputs": []
    },
    {
      "cell_type": "code",
      "source": [
        "top_get_movie(12,train_matrix_p)"
      ],
      "metadata": {
        "id": "TtjhlFXDytGU"
      },
      "execution_count": null,
      "outputs": []
    },
    {
      "cell_type": "markdown",
      "source": [
        "##### 유저에게 추천(본 것들도 포함)"
      ],
      "metadata": {
        "id": "P8sKn6D0ywpy"
      }
    },
    {
      "cell_type": "code",
      "source": [
        "def recommend(user_id,mf_train,user_vecs,item_vecs,num_items=25):\n",
        "  # 유저위치\n",
        "  rec_vector = user_vecs[user_id-1,:].dot(item_vecs.T)         # 추천 시스템에 기반한 예측 평점\n",
        "\n",
        "\n",
        "  # Min-Max Scaling\n",
        "  min_max = MinMaxScaler()\n",
        "  rec_vector_scaled = min_max.fit_transform(rec_vector.reshape(-1,1))[:,0] \n",
        "\n",
        "  product_idx = np.argsort(rec_vector_scaled)[::-1][:num_items+1] # num_items만큼 내림차순으로 평점 정렬한 index\n",
        "    \n",
        "\n",
        "  movie_list=df_c[['movie_id','movie_title']].drop_duplicates()\n",
        "\n",
        "  recommend = movie_list[movie_list['movie_id'].isin(product_idx+1)].reset_index(drop=True)\n",
        "\n",
        "  return recommend"
      ],
      "metadata": {
        "id": "x0a1lhm5xz_X"
      },
      "execution_count": 49,
      "outputs": []
    },
    {
      "cell_type": "code",
      "source": [
        "recommend(196,product_train,user_vecs,item_vecs,num_items=25)"
      ],
      "metadata": {
        "id": "1DNvW9kJyY8s"
      },
      "execution_count": null,
      "outputs": []
    },
    {
      "cell_type": "code",
      "source": [
        "def precision_recall(user_id,data):\n",
        "  count=0\n",
        "  user_seen = top_get_movie(user_id,train_matrix_p)['movie_title'] #유저가 본 영화\n",
        "  user_recommend = recommend(user_id,data,user_vecs,item_vecs)['movie_title'] #유저가 추천받은 영화\n",
        "  for i in user_seen:\n",
        "    for j in user_recommend:\n",
        "      if i==j:\n",
        "        count+=1\n",
        "  \n",
        "  precision = count/len(user_recommend)\n",
        "  recall = count/len(user_seen)\n",
        "  \n",
        "  return precision, recall"
      ],
      "metadata": {
        "id": "e09_fDf_wGRQ"
      },
      "execution_count": 57,
      "outputs": []
    },
    {
      "cell_type": "code",
      "source": [
        "precision_recall(12,train_matrix)"
      ],
      "metadata": {
        "colab": {
          "base_uri": "https://localhost:8080/"
        },
        "id": "DByIZk_Pzpub",
        "outputId": "aa053ced-b84c-4a59-c387-c39a8b145cd6"
      },
      "execution_count": 58,
      "outputs": [
        {
          "output_type": "execute_result",
          "data": {
            "text/plain": [
              "(0.5384615384615384, 0.56)"
            ]
          },
          "metadata": {},
          "execution_count": 58
        }
      ]
    },
    {
      "cell_type": "code",
      "source": [
        "precision_recall(30,train_matrix)"
      ],
      "metadata": {
        "colab": {
          "base_uri": "https://localhost:8080/"
        },
        "id": "lIxK-gz1z8Jp",
        "outputId": "5b4723b8-42a0-4da0-bf49-19c385f4a97f"
      },
      "execution_count": 59,
      "outputs": [
        {
          "output_type": "execute_result",
          "data": {
            "text/plain": [
              "(0.46153846153846156, 0.48)"
            ]
          },
          "metadata": {},
          "execution_count": 59
        }
      ]
    },
    {
      "cell_type": "code",
      "source": [
        "precision_recall(922,train_matrix)"
      ],
      "metadata": {
        "colab": {
          "base_uri": "https://localhost:8080/"
        },
        "id": "2-67iylA0B0_",
        "outputId": "fadb5a78-6307-4922-e98f-5e8829c5ac11"
      },
      "execution_count": 60,
      "outputs": [
        {
          "output_type": "execute_result",
          "data": {
            "text/plain": [
              "(0.5, 0.52)"
            ]
          },
          "metadata": {},
          "execution_count": 60
        }
      ]
    },
    {
      "cell_type": "code",
      "source": [
        "precision_recall(196,train_matrix)"
      ],
      "metadata": {
        "colab": {
          "base_uri": "https://localhost:8080/"
        },
        "id": "jD-Jg-MZ0DvF",
        "outputId": "e37b8ec7-2d0e-4115-f04d-c984447ee7b1"
      },
      "execution_count": 61,
      "outputs": [
        {
          "output_type": "execute_result",
          "data": {
            "text/plain": [
              "(0.38461538461538464, 0.4)"
            ]
          },
          "metadata": {},
          "execution_count": 61
        }
      ]
    },
    {
      "cell_type": "markdown",
      "source": [
        "#### mean_precision@k"
      ],
      "metadata": {
        "id": "tz5N1GDu0G4N"
      }
    },
    {
      "cell_type": "code",
      "source": [
        "def mean_precision_k(k,data):\n",
        "  precision=0\n",
        "  total =0\n",
        "  for i in range(1,k+1):\n",
        "    #train,test셋으로 분리했기 때문에 없는 user_id는 넘김\n",
        "    try:\n",
        "      total+=1\n",
        "      precision+=precision_recall(i,data)[0]\n",
        "    except:\n",
        "      pass\n",
        "  mean_precision = precision/total\n",
        "  return mean_precision"
      ],
      "metadata": {
        "id": "mia1STG_0FQQ"
      },
      "execution_count": 62,
      "outputs": []
    },
    {
      "cell_type": "code",
      "source": [
        "mean_precision_k(400,train_matrix)"
      ],
      "metadata": {
        "colab": {
          "base_uri": "https://localhost:8080/"
        },
        "id": "T0leFcnd0J4F",
        "outputId": "e8eaa7f6-5b9e-46e5-f868-5b05b44dce0d"
      },
      "execution_count": 63,
      "outputs": [
        {
          "output_type": "execute_result",
          "data": {
            "text/plain": [
              "0.28152692307692306"
            ]
          },
          "metadata": {},
          "execution_count": 63
        }
      ]
    },
    {
      "cell_type": "markdown",
      "source": [
        "### mean recall@k"
      ],
      "metadata": {
        "id": "IqY50p_9yVVZ"
      }
    },
    {
      "cell_type": "code",
      "source": [
        "def mean_recall_k(k,data):\n",
        "  recall=0\n",
        "  total =0\n",
        "  for i in range(1,k+1):\n",
        "    try:\n",
        "      total+=1\n",
        "      recall+=precision_recall(i,data)[1]\n",
        "    except:\n",
        "      pass\n",
        "  mean_recall = recall/total\n",
        "  return mean_recall"
      ],
      "metadata": {
        "id": "RSSV_lDRyG0Q"
      },
      "execution_count": 64,
      "outputs": []
    },
    {
      "cell_type": "code",
      "source": [
        "mean_recall_k(400,train_matrix)"
      ],
      "metadata": {
        "colab": {
          "base_uri": "https://localhost:8080/"
        },
        "id": "Sp-nBTk-yjTq",
        "outputId": "77620274-e9e8-4490-c12b-54fad7e00f3c"
      },
      "execution_count": 65,
      "outputs": [
        {
          "output_type": "execute_result",
          "data": {
            "text/plain": [
              "0.2907999999999995"
            ]
          },
          "metadata": {},
          "execution_count": 65
        }
      ]
    }
  ]
}