{
  "nbformat": 4,
  "nbformat_minor": 0,
  "metadata": {
    "colab": {
      "provenance": [],
      "mount_file_id": "1PUOJ-FCC0-24rgnNcGhAII6lzx3S6KGs",
      "authorship_tag": "ABX9TyOTg70nRnhLB6csjeRh19w6",
      "include_colab_link": true
    },
    "kernelspec": {
      "name": "python3",
      "display_name": "Python 3"
    },
    "language_info": {
      "name": "python"
    }
  },
  "cells": [
    {
      "cell_type": "markdown",
      "metadata": {
        "id": "view-in-github",
        "colab_type": "text"
      },
      "source": [
        "<a href=\"https://colab.research.google.com/github/hyuna0926/cp2/blob/main/ALS_class.ipynb\" target=\"_parent\"><img src=\"https://colab.research.google.com/assets/colab-badge.svg\" alt=\"Open In Colab\"/></a>"
      ]
    },
    {
      "cell_type": "code",
      "execution_count": 1,
      "metadata": {
        "id": "l-YyX5DnTKCK"
      },
      "outputs": [],
      "source": [
        "import numpy as np\n",
        "import pandas as pd\n",
        "import seaborn as sns\n",
        "import matplotlib.pyplot as plt\n",
        "from sklearn.model_selection import train_test_split\n",
        "from scipy.sparse import csr_matrix\n",
        "from sklearn.preprocessing import MinMaxScaler"
      ]
    },
    {
      "cell_type": "markdown",
      "source": [
        "## 데이터 분리"
      ],
      "metadata": {
        "id": "GLyvtWJnUe6J"
      }
    },
    {
      "cell_type": "code",
      "source": [
        "df=pd.read_csv('/content/drive/MyDrive/ml-100k/movie_lens.csv', index_col=0)\n",
        "df_c = df.astype(dtype='int32',errors='ignore')\n",
        "df_c.iloc[:,5:7]=df_c.iloc[:,5:7].astype('category')\n",
        "df_c.iloc[:,-1:]=df_c.iloc[:,-1:].astype('category')"
      ],
      "metadata": {
        "id": "dkwY5Zm-TieI"
      },
      "execution_count": 2,
      "outputs": []
    },
    {
      "cell_type": "markdown",
      "source": [
        "- 데이터 삭제"
      ],
      "metadata": {
        "id": "G5KCFkc_UaJa"
      }
    },
    {
      "cell_type": "code",
      "source": [
        "unknown = df_c['movie_title'] !='unknown'\n",
        "df_c = df_c[unknown]"
      ],
      "metadata": {
        "id": "Qph_WFG1UVzb"
      },
      "execution_count": 3,
      "outputs": []
    },
    {
      "cell_type": "code",
      "source": [
        "train, test = train_test_split(df_c[['user_id','movie_id','rating']],test_size=0.2,\n",
        "                               shuffle=True, random_state=3)"
      ],
      "metadata": {
        "id": "kCdlydmtUiky"
      },
      "execution_count": 4,
      "outputs": []
    },
    {
      "cell_type": "code",
      "source": [
        "train_matrix_p = train.pivot_table('rating', index='user_id', columns='movie_id').fillna(0)\n",
        "test_matrix_p = test.pivot_table('rating', index='user_id', columns='movie_id').fillna(0)\n",
        "\n",
        "train_matrix=csr_matrix(train_matrix_p.values).toarray()\n",
        "test_matrix=csr_matrix(test_matrix_p.values).toarray()"
      ],
      "metadata": {
        "id": "G2E51kbjWlhA"
      },
      "execution_count": 111,
      "outputs": []
    },
    {
      "cell_type": "code",
      "source": [
        "train_matrix_p"
      ],
      "metadata": {
        "id": "stTrJ08p5OoX"
      },
      "execution_count": null,
      "outputs": []
    },
    {
      "cell_type": "code",
      "source": [
        "train_matrix"
      ],
      "metadata": {
        "id": "pqSYFX1WWsMt"
      },
      "execution_count": null,
      "outputs": []
    },
    {
      "cell_type": "markdown",
      "source": [
        "## ALS"
      ],
      "metadata": {
        "id": "zJubAcWGW_-i"
      }
    },
    {
      "cell_type": "code",
      "source": [
        "class AlternatingLeastSquares():\n",
        "  def __init__(self,R, k,alpha ,reg_param, epochs, verbose=True,random_state=42):\n",
        "    \"\"\"\n",
        "    R : rating matrix # 별점 행렬\n",
        "    k : latent parameter #m*k, k*n 차원의 수 데이터가 많으면 보통 20개\n",
        "    reg_param : lambda\n",
        "    epochs : training epochs  #몇 번 반복할 것인지\n",
        "    verbose : print status #학습과정 출력할지 여부\n",
        "    \"\"\"\n",
        "    self.R=R\n",
        "    self.num_users, self.num_items = R.shape\n",
        "    self.k = k\n",
        "    self.alpha=alpha\n",
        "    self.reg_param = reg_param\n",
        "    self.epochs = epochs\n",
        "    self.verbose = verbose\n",
        "    self.random_state= random_state\n",
        "  \n",
        "\n",
        "  # 사용자\n",
        "  def user_latent(self, i, Ri):\n",
        "    \"\"\"\n",
        "    i : user index\n",
        "    Ri : Rating of user index i\n",
        "    Cu : 신뢰행렬\n",
        "    return : convergence value of user latent of i index\n",
        "\n",
        "    user = np.dot(np.linalg.inv(np.dot(vt,v)+lambda_i),np.dot(vt, Rij))\n",
        "    \"\"\"\n",
        "    Cu = 1+self.alpha*np.diag(Ri)\n",
        "    Vt = self.items.T\n",
        "    V = np.dot(Cu,self.items)\n",
        "    lambda_i = self.reg_param * np.eye(self.k)\n",
        "    Rij= np.dot(Cu, self.R[i].T)\n",
        "\n",
        "    # np.linalg.solve은 np.linalg.inv()(역행렬) 만들고 np.dot()한 결과와 동일함 \n",
        "    # du = np.linalg.solve(np.dot(Vt, V)+ lambda_i, np.dot(Vt,Rij)).T\n",
        "\n",
        "    du = np.dot(np.linalg.inv(np.dot(Vt,V)+lambda_i),np.dot(Vt, Rij))\n",
        "    return du\n",
        "\n",
        "\n",
        "  # 아이템\n",
        "  def item_latent(self, j,Rj):\n",
        "    \"\"\"\n",
        "    Ci: 신뢰도 행렬\n",
        "    item = np.dot(np.linalg.inv(np.dot(ut,u)+lambda_i), np.dot(ut, Rij))\n",
        "    \"\"\"\n",
        "    Ci = 1+self.alpha*np.diag(Rj)\n",
        "    Ut = self.users.T\n",
        "    U = np.dot(Ci,self.users)\n",
        "    lambda_i = self.reg_param*np.eye(self.k)\n",
        "    Rij = np.dot(Ci, self.R[:,j])\n",
        "\n",
        "    # di = np.linalg.solve(np.dot(Ut,U)+lambda_i, np.dot(Ut,Rij))\n",
        "    di = np.dot(np.linalg.inv(np.dot(Ut,U)+lambda_i), np.dot(Ut,Rij))\n",
        "    return di\n",
        "\n",
        "\n",
        "  #rmse,mae\n",
        "  def cost(self):\n",
        "    '''\n",
        "    pow(x,y) = x의 y제곱\n",
        "    return rmse\n",
        "    '''\n",
        "    xi, yi = self.R.nonzero() #0이 아닌 값들의 index 반환\n",
        "    mse,mae = 0,0\n",
        "    for x,y in zip(xi,yi):\n",
        "      mse += pow(self.R[x,y] - self.get_prediction(x,y),2)\n",
        "      mae += abs(self.R[x,y] - self.get_prediction(x,y))\n",
        "\n",
        "    return np.sqrt(mse/len(xi)), mae/len(xi)\n",
        "  \n",
        "\n",
        "\n",
        "  # 예측값\n",
        "  def get_prediction(self, i,j):\n",
        "    \"\"\"\n",
        "    get predicted rating: user_i, item_j\n",
        "    \"\"\"\n",
        "    return self.users[i,:].dot(self.items[j,:].T)\n",
        "\n",
        "\n",
        "  # 학습\n",
        "  def fit(self):\n",
        "    # 초기(랜덤) 사용자, 아이템 행렬 만들어주기\n",
        "    np.random.seed(self.random_state)\n",
        "    self.users = np.random.normal(size=(self.num_users, self.k))\n",
        "    self.items = np.random.normal(size=(self.num_items, self.k))\n",
        "\n",
        "    # 반복(epochs)\n",
        "    self.training_process = []\n",
        "    # error : rating - prediction error\n",
        "    self.user_error =0;\n",
        "    self.item_error =0; \n",
        "    for epoch in range(self.epochs):\n",
        "      #rating이 존재하는 index를 기준으로 training\n",
        "      for i, Ri in enumerate(self.R):\n",
        "        self.users[i]=self.user_latent(i,Ri)\n",
        "        self.user_error = self.cost()\n",
        "      \n",
        "      for j, Rj in enumerate(self.R.T):\n",
        "        self.items[j] = self.item_latent(j,Rj)\n",
        "        self.item_error = self.cost()\n",
        "      \n",
        "      cost = self.cost()\n",
        "      self.training_process.append((epoch,cost))\n",
        "\n",
        "      #print status\n",
        "      if self.verbose == True and ((epoch+1)%1 == 0):\n",
        "        print(f\"Iteration: {epoch+1}; rmse={cost[0]}; mae={cost[1]}\")\n",
        "  \n",
        "  #trasform\n",
        "  def transform(self,test):\n",
        "    for epoch in range(self.epochs):\n",
        "      #rating이 존재하는 index를 기준으로 training\n",
        "      for i, testi in enumerate(test):\n",
        "        self.users[i]=self.user_latent(i,testi)\n",
        "        self.user_error = self.cost()\n",
        "      \n",
        "      for j, testj in enumerate(test.T):\n",
        "        self.items[j] = self.item_latent(j,testj)\n",
        "        self.item_error = self.cost()\n",
        "      \n",
        "      cost = self.cost()\n",
        "      self.training_process.append((epoch,cost))\n",
        "\n",
        "      #print status\n",
        "      if self.verbose == True and ((epoch+1)%1 == 0):\n",
        "        print(f\"Iteration: {epoch+1}; rmse={cost[0]}; mae={cost[1]}\")\n",
        "\n",
        "\n",
        "  # 결과\n",
        "  def get_complete_matrix(self):\n",
        "    return self.users.dot(self.items.T)\n",
        "  \n",
        "  #user,item\n",
        "  def user_item(self):\n",
        "    return self.users, self.items"
      ],
      "metadata": {
        "id": "JU0L7eZRTdsi"
      },
      "execution_count": 6,
      "outputs": []
    },
    {
      "cell_type": "markdown",
      "source": [
        "- *7번 돌리는데 2시간 20분 정도 걸림*"
      ],
      "metadata": {
        "id": "sdejhz9h1Tp6"
      }
    },
    {
      "cell_type": "code",
      "source": [
        "als = AlternatingLeastSquares(R=train_matrix ,k=200,alpha=40,reg_param=40, epochs=7, verbose=True)\n",
        "als.fit()"
      ],
      "metadata": {
        "id": "UUy8CSfuUZwh",
        "colab": {
          "base_uri": "https://localhost:8080/"
        },
        "outputId": "b941a089-725d-49c6-c7fd-e0ef846ca7fd"
      },
      "execution_count": 7,
      "outputs": [
        {
          "output_type": "stream",
          "name": "stdout",
          "text": [
            "Iteration: 1; rmse=0.21830177009663754; mae=0.12710955175978447\n",
            "Iteration: 2; rmse=0.11177790789022614; mae=0.07035021528329607\n",
            "Iteration: 3; rmse=0.08553627422899603; mae=0.0557619210315803\n",
            "Iteration: 4; rmse=0.07202212685324985; mae=0.04806444034202659\n",
            "Iteration: 5; rmse=0.06420737431694523; mae=0.04362685767997608\n",
            "Iteration: 6; rmse=0.05849492754633684; mae=0.0402861467008401\n",
            "Iteration: 7; rmse=0.05427037963131837; mae=0.037800975320189036\n"
          ]
        }
      ]
    },
    {
      "cell_type": "code",
      "source": [
        "als.cost()"
      ],
      "metadata": {
        "colab": {
          "base_uri": "https://localhost:8080/"
        },
        "id": "VpVcvyiFXIo1",
        "outputId": "0e95ab11-d17b-4e2d-821b-f5a1303b8a03"
      },
      "execution_count": 107,
      "outputs": [
        {
          "output_type": "execute_result",
          "data": {
            "text/plain": [
              "(0.05427037963131837, 0.037800975320189036)"
            ]
          },
          "metadata": {},
          "execution_count": 107
        }
      ]
    },
    {
      "cell_type": "code",
      "source": [
        "als.get_complete_matrix()"
      ],
      "metadata": {
        "colab": {
          "base_uri": "https://localhost:8080/"
        },
        "id": "zkemWi-N4r6W",
        "outputId": "986e5f3d-27a6-420e-d78d-fe8ba8399b17"
      },
      "execution_count": 110,
      "outputs": [
        {
          "output_type": "execute_result",
          "data": {
            "text/plain": [
              "array([[-7.92977717e+00,  2.99253071e+00,  3.97666706e+00, ...,\n",
              "        -4.47760542e-02,  1.96877492e-01,  2.32135797e-02],\n",
              "       [ 3.94415899e+00, -2.10482492e+00,  5.71294326e-01, ...,\n",
              "         2.21739594e-01, -1.52355559e-02, -7.19407200e-02],\n",
              "       [ 1.19957904e-01, -1.73061846e-01, -3.76083241e-01, ...,\n",
              "         1.83283117e-01,  6.52096491e-02, -8.01917471e-02],\n",
              "       ...,\n",
              "       [ 4.97130445e+00, -6.91913060e-01,  1.50456338e+00, ...,\n",
              "        -5.89256803e-03, -1.06361608e-02, -3.84681306e-02],\n",
              "       [-6.46708239e-01, -1.61100308e-01, -2.97112780e+00, ...,\n",
              "         1.13145303e-02, -3.21123669e-02, -1.35224516e-01],\n",
              "       [-1.74791752e+00,  4.98393877e+00,  2.98856802e+00, ...,\n",
              "         2.18995348e-01,  2.70787371e-01,  3.07517551e-01]])"
            ]
          },
          "metadata": {},
          "execution_count": 110
        }
      ]
    },
    {
      "cell_type": "code",
      "source": [
        "user_vecs, item_vecs = als.user_item()"
      ],
      "metadata": {
        "id": "bfPnoyKQ0bdz"
      },
      "execution_count": 8,
      "outputs": []
    },
    {
      "cell_type": "markdown",
      "source": [
        "### 추천하기"
      ],
      "metadata": {
        "id": "Ez0FipHAzscj"
      }
    },
    {
      "cell_type": "code",
      "source": [
        "matrix = df_c.pivot_table('rating', index='user_id', columns='movie_id').fillna(0)\n",
        "matrix"
      ],
      "metadata": {
        "id": "LSUQ8pBN0Lz1"
      },
      "execution_count": null,
      "outputs": []
    },
    {
      "cell_type": "markdown",
      "source": [
        "#### 유저가 안 본 영화 중 추천해주기"
      ],
      "metadata": {
        "id": "NBgTqgV1z0tu"
      }
    },
    {
      "cell_type": "code",
      "source": [
        "def recommend_un(user_id,mf_train,user_vecs,item_vecs,num_items=10):\n",
        "  # 유저위치\n",
        "  # user_ind = np.where(matrix.index==user_id)[0][0]\n",
        "  pref_vec = mf_train[user_id-1,:]#.toarray()                   # 훈련 데이터의 실제 평점\n",
        "  pref_vec = pref_vec.reshape(-1)+1                           # 1을 더해 안본것들을 1로 만들고\n",
        "  pref_vec[pref_vec > 1] = 0                                  # 본 것들을 모두 0으로 만듦으로써 곱해질때 본 것들이 안나오게!\n",
        "  rec_vector = user_vecs[user_id-1,:].dot(item_vecs.T)         # 추천 시스템에 기반한 예측 평점\n",
        "\n",
        "\n",
        "  # Min-Max Scaling\n",
        "  min_max = MinMaxScaler()\n",
        "  rec_vector_scaled = min_max.fit_transform(rec_vector.reshape(-1,1))[:,0] \n",
        "  recommend_vector = pref_vec*rec_vector_scaled  # 구매하지 않은 아이템에 대해서만 예측 평점이 남도록\n",
        "\n",
        "  product_idx = np.argsort(recommend_vector)[::-1][:num_items+1] # num_items만큼 내림차순으로 평점 정렬한 index\n",
        "    \n",
        "\n",
        "  movie_list=df_c[['movie_id','movie_title']].drop_duplicates()\n",
        "\n",
        "  recommend = movie_list[movie_list['movie_id'].isin(product_idx+1)].reset_index(drop=True)\n",
        "\n",
        "  return recommend"
      ],
      "metadata": {
        "id": "89wYwBlgkB6I"
      },
      "execution_count": 10,
      "outputs": []
    },
    {
      "cell_type": "code",
      "source": [
        "recommend_un(12,train_matrix,user_vecs,item_vecs,25)"
      ],
      "metadata": {
        "colab": {
          "base_uri": "https://localhost:8080/",
          "height": 864
        },
        "id": "fTtTqRoW0VmG",
        "outputId": "464135e7-d441-4cc5-9025-ca1cce657c86"
      },
      "execution_count": 11,
      "outputs": [
        {
          "output_type": "execute_result",
          "data": {
            "text/plain": [
              "    movie_id                                      movie_title\n",
              "0          8                                      Babe (1995)\n",
              "1        377                              Heavyweights (1994)\n",
              "2        510                    Magnificent Seven, The (1954)\n",
              "3        144                                  Die Hard (1988)\n",
              "4        526                                   Ben-Hur (1959)\n",
              "5        265                 Hunt for Red October, The (1990)\n",
              "6        179                       Clockwork Orange, A (1971)\n",
              "7         22                                Braveheart (1995)\n",
              "8        631                          Crying Game, The (1992)\n",
              "9        581                                Kalifornia (1993)\n",
              "10       162                            On Golden Pond (1981)\n",
              "11        64                 Shawshank Redemption, The (1994)\n",
              "12       197                             Graduate, The (1967)\n",
              "13       188                         Full Metal Jacket (1987)\n",
              "14       193                          Right Stuff, The (1983)\n",
              "15       650  Seventh Seal, The (Sjunde inseglet, Det) (1957)\n",
              "16       486                                   Sabrina (1954)\n",
              "17       418                                Cinderella (1950)\n",
              "18       213                       Room with a View, A (1986)\n",
              "19       484                       Maltese Falcon, The (1941)\n",
              "20       482                          Some Like It Hot (1959)\n",
              "21       654                                 Chinatown (1974)\n",
              "22       659                      Arsenic and Old Lace (1944)\n",
              "23       567                Wes Craven's New Nightmare (1994)\n",
              "24       434                          Forbidden Planet (1956)\n",
              "25      1036                            Drop Dead Fred (1991)"
            ],
            "text/html": [
              "\n",
              "  <div id=\"df-749a3efb-f9b5-4ccc-ae8d-916964b15099\">\n",
              "    <div class=\"colab-df-container\">\n",
              "      <div>\n",
              "<style scoped>\n",
              "    .dataframe tbody tr th:only-of-type {\n",
              "        vertical-align: middle;\n",
              "    }\n",
              "\n",
              "    .dataframe tbody tr th {\n",
              "        vertical-align: top;\n",
              "    }\n",
              "\n",
              "    .dataframe thead th {\n",
              "        text-align: right;\n",
              "    }\n",
              "</style>\n",
              "<table border=\"1\" class=\"dataframe\">\n",
              "  <thead>\n",
              "    <tr style=\"text-align: right;\">\n",
              "      <th></th>\n",
              "      <th>movie_id</th>\n",
              "      <th>movie_title</th>\n",
              "    </tr>\n",
              "  </thead>\n",
              "  <tbody>\n",
              "    <tr>\n",
              "      <th>0</th>\n",
              "      <td>8</td>\n",
              "      <td>Babe (1995)</td>\n",
              "    </tr>\n",
              "    <tr>\n",
              "      <th>1</th>\n",
              "      <td>377</td>\n",
              "      <td>Heavyweights (1994)</td>\n",
              "    </tr>\n",
              "    <tr>\n",
              "      <th>2</th>\n",
              "      <td>510</td>\n",
              "      <td>Magnificent Seven, The (1954)</td>\n",
              "    </tr>\n",
              "    <tr>\n",
              "      <th>3</th>\n",
              "      <td>144</td>\n",
              "      <td>Die Hard (1988)</td>\n",
              "    </tr>\n",
              "    <tr>\n",
              "      <th>4</th>\n",
              "      <td>526</td>\n",
              "      <td>Ben-Hur (1959)</td>\n",
              "    </tr>\n",
              "    <tr>\n",
              "      <th>5</th>\n",
              "      <td>265</td>\n",
              "      <td>Hunt for Red October, The (1990)</td>\n",
              "    </tr>\n",
              "    <tr>\n",
              "      <th>6</th>\n",
              "      <td>179</td>\n",
              "      <td>Clockwork Orange, A (1971)</td>\n",
              "    </tr>\n",
              "    <tr>\n",
              "      <th>7</th>\n",
              "      <td>22</td>\n",
              "      <td>Braveheart (1995)</td>\n",
              "    </tr>\n",
              "    <tr>\n",
              "      <th>8</th>\n",
              "      <td>631</td>\n",
              "      <td>Crying Game, The (1992)</td>\n",
              "    </tr>\n",
              "    <tr>\n",
              "      <th>9</th>\n",
              "      <td>581</td>\n",
              "      <td>Kalifornia (1993)</td>\n",
              "    </tr>\n",
              "    <tr>\n",
              "      <th>10</th>\n",
              "      <td>162</td>\n",
              "      <td>On Golden Pond (1981)</td>\n",
              "    </tr>\n",
              "    <tr>\n",
              "      <th>11</th>\n",
              "      <td>64</td>\n",
              "      <td>Shawshank Redemption, The (1994)</td>\n",
              "    </tr>\n",
              "    <tr>\n",
              "      <th>12</th>\n",
              "      <td>197</td>\n",
              "      <td>Graduate, The (1967)</td>\n",
              "    </tr>\n",
              "    <tr>\n",
              "      <th>13</th>\n",
              "      <td>188</td>\n",
              "      <td>Full Metal Jacket (1987)</td>\n",
              "    </tr>\n",
              "    <tr>\n",
              "      <th>14</th>\n",
              "      <td>193</td>\n",
              "      <td>Right Stuff, The (1983)</td>\n",
              "    </tr>\n",
              "    <tr>\n",
              "      <th>15</th>\n",
              "      <td>650</td>\n",
              "      <td>Seventh Seal, The (Sjunde inseglet, Det) (1957)</td>\n",
              "    </tr>\n",
              "    <tr>\n",
              "      <th>16</th>\n",
              "      <td>486</td>\n",
              "      <td>Sabrina (1954)</td>\n",
              "    </tr>\n",
              "    <tr>\n",
              "      <th>17</th>\n",
              "      <td>418</td>\n",
              "      <td>Cinderella (1950)</td>\n",
              "    </tr>\n",
              "    <tr>\n",
              "      <th>18</th>\n",
              "      <td>213</td>\n",
              "      <td>Room with a View, A (1986)</td>\n",
              "    </tr>\n",
              "    <tr>\n",
              "      <th>19</th>\n",
              "      <td>484</td>\n",
              "      <td>Maltese Falcon, The (1941)</td>\n",
              "    </tr>\n",
              "    <tr>\n",
              "      <th>20</th>\n",
              "      <td>482</td>\n",
              "      <td>Some Like It Hot (1959)</td>\n",
              "    </tr>\n",
              "    <tr>\n",
              "      <th>21</th>\n",
              "      <td>654</td>\n",
              "      <td>Chinatown (1974)</td>\n",
              "    </tr>\n",
              "    <tr>\n",
              "      <th>22</th>\n",
              "      <td>659</td>\n",
              "      <td>Arsenic and Old Lace (1944)</td>\n",
              "    </tr>\n",
              "    <tr>\n",
              "      <th>23</th>\n",
              "      <td>567</td>\n",
              "      <td>Wes Craven's New Nightmare (1994)</td>\n",
              "    </tr>\n",
              "    <tr>\n",
              "      <th>24</th>\n",
              "      <td>434</td>\n",
              "      <td>Forbidden Planet (1956)</td>\n",
              "    </tr>\n",
              "    <tr>\n",
              "      <th>25</th>\n",
              "      <td>1036</td>\n",
              "      <td>Drop Dead Fred (1991)</td>\n",
              "    </tr>\n",
              "  </tbody>\n",
              "</table>\n",
              "</div>\n",
              "      <button class=\"colab-df-convert\" onclick=\"convertToInteractive('df-749a3efb-f9b5-4ccc-ae8d-916964b15099')\"\n",
              "              title=\"Convert this dataframe to an interactive table.\"\n",
              "              style=\"display:none;\">\n",
              "        \n",
              "  <svg xmlns=\"http://www.w3.org/2000/svg\" height=\"24px\"viewBox=\"0 0 24 24\"\n",
              "       width=\"24px\">\n",
              "    <path d=\"M0 0h24v24H0V0z\" fill=\"none\"/>\n",
              "    <path d=\"M18.56 5.44l.94 2.06.94-2.06 2.06-.94-2.06-.94-.94-2.06-.94 2.06-2.06.94zm-11 1L8.5 8.5l.94-2.06 2.06-.94-2.06-.94L8.5 2.5l-.94 2.06-2.06.94zm10 10l.94 2.06.94-2.06 2.06-.94-2.06-.94-.94-2.06-.94 2.06-2.06.94z\"/><path d=\"M17.41 7.96l-1.37-1.37c-.4-.4-.92-.59-1.43-.59-.52 0-1.04.2-1.43.59L10.3 9.45l-7.72 7.72c-.78.78-.78 2.05 0 2.83L4 21.41c.39.39.9.59 1.41.59.51 0 1.02-.2 1.41-.59l7.78-7.78 2.81-2.81c.8-.78.8-2.07 0-2.86zM5.41 20L4 18.59l7.72-7.72 1.47 1.35L5.41 20z\"/>\n",
              "  </svg>\n",
              "      </button>\n",
              "      \n",
              "  <style>\n",
              "    .colab-df-container {\n",
              "      display:flex;\n",
              "      flex-wrap:wrap;\n",
              "      gap: 12px;\n",
              "    }\n",
              "\n",
              "    .colab-df-convert {\n",
              "      background-color: #E8F0FE;\n",
              "      border: none;\n",
              "      border-radius: 50%;\n",
              "      cursor: pointer;\n",
              "      display: none;\n",
              "      fill: #1967D2;\n",
              "      height: 32px;\n",
              "      padding: 0 0 0 0;\n",
              "      width: 32px;\n",
              "    }\n",
              "\n",
              "    .colab-df-convert:hover {\n",
              "      background-color: #E2EBFA;\n",
              "      box-shadow: 0px 1px 2px rgba(60, 64, 67, 0.3), 0px 1px 3px 1px rgba(60, 64, 67, 0.15);\n",
              "      fill: #174EA6;\n",
              "    }\n",
              "\n",
              "    [theme=dark] .colab-df-convert {\n",
              "      background-color: #3B4455;\n",
              "      fill: #D2E3FC;\n",
              "    }\n",
              "\n",
              "    [theme=dark] .colab-df-convert:hover {\n",
              "      background-color: #434B5C;\n",
              "      box-shadow: 0px 1px 3px 1px rgba(0, 0, 0, 0.15);\n",
              "      filter: drop-shadow(0px 1px 2px rgba(0, 0, 0, 0.3));\n",
              "      fill: #FFFFFF;\n",
              "    }\n",
              "  </style>\n",
              "\n",
              "      <script>\n",
              "        const buttonEl =\n",
              "          document.querySelector('#df-749a3efb-f9b5-4ccc-ae8d-916964b15099 button.colab-df-convert');\n",
              "        buttonEl.style.display =\n",
              "          google.colab.kernel.accessAllowed ? 'block' : 'none';\n",
              "\n",
              "        async function convertToInteractive(key) {\n",
              "          const element = document.querySelector('#df-749a3efb-f9b5-4ccc-ae8d-916964b15099');\n",
              "          const dataTable =\n",
              "            await google.colab.kernel.invokeFunction('convertToInteractive',\n",
              "                                                     [key], {});\n",
              "          if (!dataTable) return;\n",
              "\n",
              "          const docLinkHtml = 'Like what you see? Visit the ' +\n",
              "            '<a target=\"_blank\" href=https://colab.research.google.com/notebooks/data_table.ipynb>data table notebook</a>'\n",
              "            + ' to learn more about interactive tables.';\n",
              "          element.innerHTML = '';\n",
              "          dataTable['output_type'] = 'display_data';\n",
              "          await google.colab.output.renderOutput(dataTable, element);\n",
              "          const docLink = document.createElement('div');\n",
              "          docLink.innerHTML = docLinkHtml;\n",
              "          element.appendChild(docLink);\n",
              "        }\n",
              "      </script>\n",
              "    </div>\n",
              "  </div>\n",
              "  "
            ]
          },
          "metadata": {},
          "execution_count": 11
        }
      ]
    },
    {
      "cell_type": "markdown",
      "source": [
        "## 성능평가\n",
        "> **precision@k, recall@k**<br>\n",
        "> *유저가 본 영화 중 평점이 높은 순으로 정렬 후 추천영화와 비교*"
      ],
      "metadata": {
        "id": "d5AOHCny1qgR"
      }
    },
    {
      "cell_type": "markdown",
      "source": [
        "- 유저가 평가한 4점 이상인 영화(필요없을듯)"
      ],
      "metadata": {
        "id": "NUZRJw5J2jPo"
      }
    },
    {
      "cell_type": "code",
      "source": [
        "def get_movie_4(user_id, item=25):\n",
        "  movie_list=df_c[['movie_id','movie_title']].drop_duplicates()\n",
        "\n",
        "  trans = matrix[matrix.index==user_id].T\n",
        "  trans.columns=['rating']\n",
        "\n",
        "  movie_ind=trans[trans['rating']>=4].index.tolist()  \n",
        "  movie_list=df_c[['movie_id','movie_title']].drop_duplicates()\n",
        "  user_movie = movie_list[movie_list['movie_id'].isin(movie_ind)]\n",
        "  \n",
        "  return user_movie[:item]"
      ],
      "metadata": {
        "id": "iQGbsFHG0nTK"
      },
      "execution_count": 29,
      "outputs": []
    },
    {
      "cell_type": "markdown",
      "source": [
        "#### 유저가 높게 평가한 순으로 정렬 후 뽑기"
      ],
      "metadata": {
        "id": "5_bxtCPY0SiJ"
      }
    },
    {
      "cell_type": "code",
      "source": [
        "def top_get_movie(user_id,matrix_p,item=25):\n",
        "  movie_list=df_c[['movie_id','movie_title']].drop_duplicates()\n",
        "\n",
        "  trans = matrix_p[matrix_p.index==user_id].T\n",
        "  trans.columns=['rating']\n",
        "\n",
        "  movie_ind=trans.sort_values(['rating']).tail(item).index.tolist()  \n",
        "  user_movie = movie_list[movie_list['movie_id'].isin(movie_ind)]\n",
        "  \n",
        "  return user_movie"
      ],
      "metadata": {
        "id": "tiYeH6X0z4Mp"
      },
      "execution_count": 113,
      "outputs": []
    },
    {
      "cell_type": "code",
      "source": [
        "top_get_movie(12,train_matrix_p)"
      ],
      "metadata": {
        "id": "UvrtTxj_0KGp"
      },
      "execution_count": null,
      "outputs": []
    },
    {
      "cell_type": "markdown",
      "source": [
        "#### 유저에게 추천하기(본 것들도 포함)"
      ],
      "metadata": {
        "id": "fTZSn1Cr2ntG"
      }
    },
    {
      "cell_type": "code",
      "source": [
        "def recommend(user_id,mf_train,user_vecs,item_vecs,num_items=25):\n",
        "  # 유저위치\n",
        "  rec_vector = user_vecs[user_id-1,:].dot(item_vecs.T)         # 추천 시스템에 기반한 예측 평점\n",
        "\n",
        "\n",
        "  # Min-Max Scaling\n",
        "  min_max = MinMaxScaler()\n",
        "  rec_vector_scaled = min_max.fit_transform(rec_vector.reshape(-1,1))[:,0] \n",
        "\n",
        "  product_idx = np.argsort(rec_vector_scaled)[::-1][:num_items+1] # num_items만큼 내림차순으로 평점 정렬한 index\n",
        "    \n",
        "  movie_list=df_c[['movie_id','movie_title']].drop_duplicates()\n",
        "\n",
        "  recommend = movie_list[movie_list['movie_id'].isin(product_idx+1)].reset_index(drop=True)\n",
        "\n",
        "  return recommend"
      ],
      "metadata": {
        "id": "8Z9MYGSV14Q3"
      },
      "execution_count": 115,
      "outputs": []
    },
    {
      "cell_type": "code",
      "source": [
        "recommend(12,train_matrix,user_vecs,item_vecs)"
      ],
      "metadata": {
        "id": "vwhS_rwt3U0g"
      },
      "execution_count": null,
      "outputs": []
    },
    {
      "cell_type": "markdown",
      "source": [
        "### precision/recall@k"
      ],
      "metadata": {
        "id": "8TBZnFr63gDG"
      }
    },
    {
      "cell_type": "code",
      "source": [
        "def precision_recall(user_id,data):\n",
        "  count=0\n",
        "  user_seen = top_get_movie(user_id,train_matrix_p)['movie_title'] #유저가 본 영화\n",
        "  user_recommend = recommend(user_id,data,user_vecs,item_vecs)['movie_title'] #유저가 추천받은 영화\n",
        "  for i in user_seen:\n",
        "    for j in user_recommend:\n",
        "      if i==j:\n",
        "        count+=1\n",
        "  \n",
        "  precision = count/len(user_recommend)\n",
        "  recall = count/len(user_seen)\n",
        "  \n",
        "  return precision, recall"
      ],
      "metadata": {
        "id": "lcwDMORs3djg"
      },
      "execution_count": 119,
      "outputs": []
    },
    {
      "cell_type": "code",
      "source": [
        "precision_recall(12,train_matrix)"
      ],
      "metadata": {
        "colab": {
          "base_uri": "https://localhost:8080/"
        },
        "id": "pb6VJE6b6eRu",
        "outputId": "89d0b6c1-d5ec-41c1-afae-c709520912d7"
      },
      "execution_count": 122,
      "outputs": [
        {
          "output_type": "execute_result",
          "data": {
            "text/plain": [
              "(0.5769230769230769, 0.6)"
            ]
          },
          "metadata": {},
          "execution_count": 122
        }
      ]
    },
    {
      "cell_type": "code",
      "source": [
        "precision_recall(30,train_matrix)"
      ],
      "metadata": {
        "colab": {
          "base_uri": "https://localhost:8080/"
        },
        "id": "I8xL9YTr6g-x",
        "outputId": "358c6550-1beb-46c8-98eb-3c2d60cc3ea0"
      },
      "execution_count": 121,
      "outputs": [
        {
          "output_type": "execute_result",
          "data": {
            "text/plain": [
              "(0.46153846153846156, 0.48)"
            ]
          },
          "metadata": {},
          "execution_count": 121
        }
      ]
    },
    {
      "cell_type": "code",
      "source": [
        "precision_recall(922,train_matrix)"
      ],
      "metadata": {
        "colab": {
          "base_uri": "https://localhost:8080/"
        },
        "id": "5USlkT-D6wSI",
        "outputId": "9a212050-0ae6-41fb-d7e0-6ad5e8fa7a71"
      },
      "execution_count": 123,
      "outputs": [
        {
          "output_type": "execute_result",
          "data": {
            "text/plain": [
              "(0.46153846153846156, 0.48)"
            ]
          },
          "metadata": {},
          "execution_count": 123
        }
      ]
    },
    {
      "cell_type": "code",
      "source": [
        "precision_recall(196,train_matrix)"
      ],
      "metadata": {
        "colab": {
          "base_uri": "https://localhost:8080/"
        },
        "id": "C9IdA11G2P53",
        "outputId": "a1e13982-33a1-4eb6-d5dc-312d36ea1ba7"
      },
      "execution_count": 124,
      "outputs": [
        {
          "output_type": "execute_result",
          "data": {
            "text/plain": [
              "(0.38461538461538464, 0.4)"
            ]
          },
          "metadata": {},
          "execution_count": 124
        }
      ]
    },
    {
      "cell_type": "markdown",
      "source": [
        "### mean_precision@k"
      ],
      "metadata": {
        "id": "F_RFqGMrw1dG"
      }
    },
    {
      "cell_type": "code",
      "source": [
        "def mean_precision_k(k,data):\n",
        "  precision=0\n",
        "  total =0\n",
        "  for i in range(1,k+1):\n",
        "    #train,test셋으로 분리했기 때문에 없는 user_id는 넘김\n",
        "    try:\n",
        "      total+=1\n",
        "      precision+=precision_recall(i,data)[0]\n",
        "    except:\n",
        "      pass\n",
        "  mean_precision = precision/total\n",
        "  return mean_precision"
      ],
      "metadata": {
        "id": "sx2UO_ex61QN"
      },
      "execution_count": 125,
      "outputs": []
    },
    {
      "cell_type": "code",
      "source": [
        "mean_precision_k(400,train_matrix)"
      ],
      "metadata": {
        "colab": {
          "base_uri": "https://localhost:8080/"
        },
        "id": "fUx8VDQLyDgl",
        "outputId": "b5b872e6-5c7f-4d9d-9e9e-f0ef86154e3f"
      },
      "execution_count": 126,
      "outputs": [
        {
          "output_type": "execute_result",
          "data": {
            "text/plain": [
              "0.30113461538461544"
            ]
          },
          "metadata": {},
          "execution_count": 126
        }
      ]
    },
    {
      "cell_type": "markdown",
      "source": [
        "### mean recall@k"
      ],
      "metadata": {
        "id": "IqY50p_9yVVZ"
      }
    },
    {
      "cell_type": "code",
      "source": [
        "def mean_recall_k(k,data):\n",
        "  recall=0\n",
        "  total =0\n",
        "  for i in range(1,k+1):\n",
        "    try:\n",
        "      total+=1\n",
        "      recall+=precision_recall(i,data)[1]\n",
        "    except:\n",
        "      pass\n",
        "  mean_recall = recall/total\n",
        "  return mean_recall"
      ],
      "metadata": {
        "id": "RSSV_lDRyG0Q"
      },
      "execution_count": 127,
      "outputs": []
    },
    {
      "cell_type": "code",
      "source": [
        "mean_recall_k(400,train_matrix)"
      ],
      "metadata": {
        "colab": {
          "base_uri": "https://localhost:8080/"
        },
        "id": "Sp-nBTk-yjTq",
        "outputId": "8d3893d0-5f4f-48c1-bc0e-1d9e617d738e"
      },
      "execution_count": 128,
      "outputs": [
        {
          "output_type": "execute_result",
          "data": {
            "text/plain": [
              "0.3116999999999999"
            ]
          },
          "metadata": {},
          "execution_count": 128
        }
      ]
    }
  ]
}